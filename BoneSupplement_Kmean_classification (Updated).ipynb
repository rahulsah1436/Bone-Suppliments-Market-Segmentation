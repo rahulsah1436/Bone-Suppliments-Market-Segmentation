{
  "nbformat": 4,
  "nbformat_minor": 0,
  "metadata": {
    "kernelspec": {
      "display_name": "Python 3",
      "language": "python",
      "name": "python3"
    },
    "language_info": {
      "codemirror_mode": {
        "name": "ipython",
        "version": 3
      },
      "file_extension": ".py",
      "mimetype": "text/x-python",
      "name": "python",
      "nbconvert_exporter": "python",
      "pygments_lexer": "ipython3",
      "version": "3.8.5"
    },
    "colab": {
      "name": "BoneSupplement-Kmean_classification.ipynb",
      "provenance": [],
      "collapsed_sections": []
    }
  },
  "cells": [
    {
      "cell_type": "code",
      "metadata": {
        "id": "pSt0lvFO2ASt"
      },
      "source": [
        "import numpy as np\n",
        "import pandas as pd\n",
        "import matplotlib.pyplot as plt\n",
        "import seaborn as sns\n",
        "from sklearn.cluster import KMeans\n"
      ],
      "execution_count": null,
      "outputs": []
    },
    {
      "cell_type": "code",
      "metadata": {
        "id": "gyeYw7Tl4KcF"
      },
      "source": [
        "df=pd.read_csv(\"/content/Final.csv\")"
      ],
      "execution_count": null,
      "outputs": []
    },
    {
      "cell_type": "code",
      "metadata": {
        "colab": {
          "base_uri": "https://localhost:8080/",
          "height": 240
        },
        "id": "DyFdzH3a2ASx",
        "outputId": "10025299-8e2f-458e-e28e-53b115a34b43"
      },
      "source": [
        "df.head()"
      ],
      "execution_count": null,
      "outputs": [
        {
          "output_type": "execute_result",
          "data": {
            "text/html": [
              "<div>\n",
              "<style scoped>\n",
              "    .dataframe tbody tr th:only-of-type {\n",
              "        vertical-align: middle;\n",
              "    }\n",
              "\n",
              "    .dataframe tbody tr th {\n",
              "        vertical-align: top;\n",
              "    }\n",
              "\n",
              "    .dataframe thead th {\n",
              "        text-align: right;\n",
              "    }\n",
              "</style>\n",
              "<table border=\"1\" class=\"dataframe\">\n",
              "  <thead>\n",
              "    <tr style=\"text-align: right;\">\n",
              "      <th></th>\n",
              "      <th>Unnamed: 0</th>\n",
              "      <th>State</th>\n",
              "      <th>District</th>\n",
              "      <th>Population</th>\n",
              "      <th>Children_Between_1_to_2_years</th>\n",
              "      <th>Total_Arthritis_Patient</th>\n",
              "      <th>Arthritis_Patient_Male</th>\n",
              "      <th>Arthritis_Patient_Female</th>\n",
              "      <th>Children_Vaccinated</th>\n",
              "      <th>Children_Immunized</th>\n",
              "      <th>Children_Vaccinated_at_Birth</th>\n",
              "      <th>Children_Not_Vaccinated</th>\n",
              "      <th>Total_Children_Weighted</th>\n",
              "      <th>Children_Weighted_less_than_2.5_Kg</th>\n",
              "      <th>Women_Aged_15_49_years</th>\n",
              "    </tr>\n",
              "  </thead>\n",
              "  <tbody>\n",
              "    <tr>\n",
              "      <th>0</th>\n",
              "      <td>0</td>\n",
              "      <td>Assam</td>\n",
              "      <td>Barpeta</td>\n",
              "      <td>64606</td>\n",
              "      <td>2371</td>\n",
              "      <td>1072.0</td>\n",
              "      <td>832.0</td>\n",
              "      <td>1328.0</td>\n",
              "      <td>76.5</td>\n",
              "      <td>62.1</td>\n",
              "      <td>67.7</td>\n",
              "      <td>4.3</td>\n",
              "      <td>55.3</td>\n",
              "      <td>22.5</td>\n",
              "      <td>12208.5</td>\n",
              "    </tr>\n",
              "    <tr>\n",
              "      <th>1</th>\n",
              "      <td>1</td>\n",
              "      <td>Assam</td>\n",
              "      <td>Bongaigaon</td>\n",
              "      <td>84012</td>\n",
              "      <td>2451</td>\n",
              "      <td>929.0</td>\n",
              "      <td>701.0</td>\n",
              "      <td>1171.0</td>\n",
              "      <td>67.8</td>\n",
              "      <td>52.4</td>\n",
              "      <td>73.7</td>\n",
              "      <td>3.4</td>\n",
              "      <td>55.7</td>\n",
              "      <td>21.6</td>\n",
              "      <td>16157.0</td>\n",
              "    </tr>\n",
              "    <tr>\n",
              "      <th>2</th>\n",
              "      <td>2</td>\n",
              "      <td>Assam</td>\n",
              "      <td>Cachar</td>\n",
              "      <td>127158</td>\n",
              "      <td>5709</td>\n",
              "      <td>2964.0</td>\n",
              "      <td>2448.0</td>\n",
              "      <td>3474.0</td>\n",
              "      <td>71.3</td>\n",
              "      <td>64.5</td>\n",
              "      <td>82.0</td>\n",
              "      <td>2.7</td>\n",
              "      <td>61.7</td>\n",
              "      <td>27.8</td>\n",
              "      <td>22614.5</td>\n",
              "    </tr>\n",
              "    <tr>\n",
              "      <th>3</th>\n",
              "      <td>3</td>\n",
              "      <td>Assam</td>\n",
              "      <td>Darrang</td>\n",
              "      <td>29048</td>\n",
              "      <td>984</td>\n",
              "      <td>1557.0</td>\n",
              "      <td>1360.0</td>\n",
              "      <td>1766.0</td>\n",
              "      <td>79.3</td>\n",
              "      <td>56.4</td>\n",
              "      <td>76.3</td>\n",
              "      <td>5.3</td>\n",
              "      <td>65.0</td>\n",
              "      <td>25.2</td>\n",
              "      <td>5225.5</td>\n",
              "    </tr>\n",
              "    <tr>\n",
              "      <th>4</th>\n",
              "      <td>4</td>\n",
              "      <td>Assam</td>\n",
              "      <td>Dhemaji</td>\n",
              "      <td>75451</td>\n",
              "      <td>3467</td>\n",
              "      <td>1109.0</td>\n",
              "      <td>958.0</td>\n",
              "      <td>1265.0</td>\n",
              "      <td>80.4</td>\n",
              "      <td>66.6</td>\n",
              "      <td>78.5</td>\n",
              "      <td>7.5</td>\n",
              "      <td>74.1</td>\n",
              "      <td>14.5</td>\n",
              "      <td>13844.0</td>\n",
              "    </tr>\n",
              "  </tbody>\n",
              "</table>\n",
              "</div>"
            ],
            "text/plain": [
              "   Unnamed: 0  ... Women_Aged_15_49_years\n",
              "0           0  ...                12208.5\n",
              "1           1  ...                16157.0\n",
              "2           2  ...                22614.5\n",
              "3           3  ...                 5225.5\n",
              "4           4  ...                13844.0\n",
              "\n",
              "[5 rows x 15 columns]"
            ]
          },
          "metadata": {
            "tags": []
          },
          "execution_count": 4
        }
      ]
    },
    {
      "cell_type": "code",
      "metadata": {
        "id": "HRoBqDnM2ASz"
      },
      "source": [
        "district=df['District'].unique()"
      ],
      "execution_count": null,
      "outputs": []
    },
    {
      "cell_type": "code",
      "metadata": {
        "colab": {
          "base_uri": "https://localhost:8080/"
        },
        "id": "Mv3BARvW2AS0",
        "outputId": "eb397358-721f-4229-a5b2-002548c17c6c"
      },
      "source": [
        "import numpy as np\n",
        "np.array(district)"
      ],
      "execution_count": null,
      "outputs": [
        {
          "output_type": "execute_result",
          "data": {
            "text/plain": [
              "array(['Barpeta', 'Bongaigaon', 'Cachar', 'Darrang', 'Dhemaji', 'Dhubri',\n",
              "       'Dibrugarh', 'Goalpara', 'Golaghat', 'Hailakandi', 'Jorhat',\n",
              "       'Kamrup', 'Karbi Anglong', 'Karimganj', 'Kokrajhar', 'Lakhimpur',\n",
              "       'Marigaon', 'Nagaon', 'Nalbari', 'North Cachar Hills', 'Sibsagar',\n",
              "       'Sonitpur', 'Tinsukia', 'Araria', 'Aurangabad', 'Banka',\n",
              "       'Begusarai', 'Bhagalpur', 'Bhojpur', 'Buxar', 'Darbhanga', 'Gaya',\n",
              "       'Gopalganj', 'Jamui', 'Jehanabad', 'Kaimur (Bhabua)', 'Katihar',\n",
              "       'Khagaria', 'Kishanganj', 'Lakhisarai', 'Madhepura', 'Madhubani',\n",
              "       'Munger', 'Muzaffarpur', 'Nalanda', 'Nawada', 'Pashchim Champaran',\n",
              "       'Patna', 'Purba Champaran', 'Purnia', 'Rohtas', 'Saharsa',\n",
              "       'Samastipur', 'Saran', 'Sheikhpura', 'Sheohar', 'Sitamarhi',\n",
              "       'Siwan', 'Supaul', 'Vaishali', 'Bastar', 'Bilaspur', 'Dantewada',\n",
              "       'Dhamtari', 'Durg', 'Janjgir-Champa', 'Jashpur', 'Kanker',\n",
              "       'Kawardha', 'Korba', 'Koriya', 'Mahasamund', 'Raigarh', 'Raipur',\n",
              "       'Rajnandgaon', 'Surguja', 'Bokaro', 'Chatra', 'Deoghar', 'Dhanbad',\n",
              "       'Dumka', 'Garhwa', 'Giridih', 'Godda', 'Gumla', 'Hazaribagh',\n",
              "       'Kodarma', 'Lohardaga', 'Pakaur', 'Palamu', 'Pashchimi Singhbhum',\n",
              "       'Purbi Singhbhum', 'Ranchi', 'Sahibganj', 'Balaghat', 'Barwani',\n",
              "       'Betul', 'Bhind', 'Bhopal', 'Chhatarpur', 'Chhindwara', 'Damoh',\n",
              "       'Datia', 'Dewas', 'Dhar', 'Dindori', 'East Nimar', 'Guna',\n",
              "       'Gwalior', 'Harda', 'Hoshangabad', 'Indore', 'Jabalpur', 'Jhabua',\n",
              "       'Katni', 'Mandla', 'Mandsaur', 'Morena', 'Narsimhapur', 'Neemuch',\n",
              "       'Panna', 'Raisen', 'Rajgarh', 'Ratlam', 'Rewa', 'Sagar', 'Satna',\n",
              "       'Sehore', 'Seoni', 'Shahdol', 'Shajapur', 'Sheopur', 'Shivpuri',\n",
              "       'Sidhi', 'Tikamgarh', 'Ujjain', 'Umaria', 'Vidisha', 'West Nimar',\n",
              "       'Anugul', 'Balangir', 'Baleshwar', 'Bargarh', 'Baudh', 'Bhadrak',\n",
              "       'Cuttack', 'Debagarh', 'Dhenkanal', 'Gajapati', 'Ganjam',\n",
              "       'Jagatsinghapur', 'Jajapur', 'Jharsuguda', 'Kalahandi',\n",
              "       'Kandhamal', 'Kendrapara', 'Kendujhar', 'Khordha', 'Koraput',\n",
              "       'Malkangiri', 'Mayurbhanj', 'Nabarangapur', 'Nuapada', 'Nayagarh',\n",
              "       'Puri', 'Rayagada', 'Sambalpur', 'Sonapur', 'Sundargarh', 'Ajmer',\n",
              "       'Alwar', 'Banswara', 'Baran', 'Barmer', 'Bharatpur', 'Bhilwara',\n",
              "       'Bikaner', 'Bundi', 'Chittaurgarh', 'Churu', 'Dausa', 'Dhaulpur',\n",
              "       'Dungarpur', 'Ganganagar', 'Hanumangarh', 'Jaipur', 'Jaisalmer',\n",
              "       'Jalor', 'Jhalawar', 'Jhunjhunun', 'Jodhpur', 'Karauli', 'Kota',\n",
              "       'Nagaur', 'Pali', 'Rajsamand', 'Sawai Madhopur', 'Sikar', 'Sirohi',\n",
              "       'Tonk', 'Udaipur', 'Agra', 'Aligarh', 'Allahabad',\n",
              "       'Ambedkar Nagar', 'Auraiya', 'Azamgarh', 'Baghpat', 'Bahraich',\n",
              "       'Ballia', 'Balrampur', 'Banda', 'Barabanki', 'Bareilly', 'Basti',\n",
              "       'Bijnor', 'Budaun', 'Bulandshahar', 'Chandauli', 'Chitrakoot',\n",
              "       'Deoria', 'Etah', 'Etawah', 'Faizabad', 'Farrukhabad', 'Fatehpur',\n",
              "       'Firozabad', 'Gautam Buddha Nagar', 'Ghaziabad', 'Ghazipur',\n",
              "       'Gonda', 'Gorakhpur', 'Hamirpur', 'Hardoi', 'Hathras', 'Jalaun',\n",
              "       'Jaunpur', 'Jhansi', 'Jyotiba Phule Nagar', 'Kannauj',\n",
              "       'Kanpur Dehat', 'Kanpur Nagar', 'Kaushambi', 'Kheri', 'Kushinagar',\n",
              "       'Lalitpur', 'Lucknow', 'Maharajganj', 'Mahoba', 'Mainpuri',\n",
              "       'Mathura', 'Mau', 'Meerut', 'Mirzapur', 'Moradabad',\n",
              "       'Muzaffarnagar', 'Pilibhit', 'Pratapgarh', 'Rae Bareli', 'Rampur',\n",
              "       'Saharanpur', 'Sant Kabir Nagar', 'Sant Ravidas Nagar (Bhadohi)',\n",
              "       'Shahjahanpur', 'Shrawasti', 'Siddharthnagar', 'Sitapur',\n",
              "       'Sonbhadra', 'Sultanpur', 'Unnao', 'Varanasi', 'Almora',\n",
              "       'Bageshwar', 'Chamoli', 'Champawat', 'Dehradun', 'Haridwar',\n",
              "       'Nainital', 'Pauri Garhwal', 'Pithoragarh', 'Rudraprayag',\n",
              "       'Tehri Garhwal', 'Udham Singh Nagar', 'Uttarkashi'], dtype=object)"
            ]
          },
          "metadata": {
            "tags": []
          },
          "execution_count": 6
        }
      ]
    },
    {
      "cell_type": "code",
      "metadata": {
        "colab": {
          "base_uri": "https://localhost:8080/"
        },
        "id": "titasDgX2AS0",
        "outputId": "162f2056-e4aa-446d-a114-51b5b8af7c4d"
      },
      "source": [
        "#district.sort()\n",
        "print(len(district))"
      ],
      "execution_count": null,
      "outputs": [
        {
          "output_type": "stream",
          "text": [
            "284\n"
          ],
          "name": "stdout"
        }
      ]
    },
    {
      "cell_type": "code",
      "metadata": {
        "colab": {
          "base_uri": "https://localhost:8080/"
        },
        "id": "Mj4Pwowq2AS1",
        "outputId": "1f0cc3a1-ad4a-4814-fc67-71d5416f5673"
      },
      "source": [
        "dist={}\n",
        "for i in range(len(district)):\n",
        "    dist[district[i]]=i\n",
        "df['District']=df.District.astype(object)\n",
        "df['District'].replace(dist,inplace=True)\n",
        "print(df['District'])"
      ],
      "execution_count": null,
      "outputs": [
        {
          "output_type": "stream",
          "text": [
            "0        0\n",
            "1        1\n",
            "2        2\n",
            "3        3\n",
            "4        4\n",
            "      ... \n",
            "279    279\n",
            "280    280\n",
            "281    281\n",
            "282    282\n",
            "283    283\n",
            "Name: District, Length: 284, dtype: int64\n"
          ],
          "name": "stdout"
        }
      ]
    },
    {
      "cell_type": "code",
      "metadata": {
        "colab": {
          "base_uri": "https://localhost:8080/",
          "height": 240
        },
        "id": "ZIwhuh0t2AS1",
        "outputId": "d95339d5-9a01-4abf-d3c7-22995ab40538"
      },
      "source": [
        "df.head()"
      ],
      "execution_count": null,
      "outputs": [
        {
          "output_type": "execute_result",
          "data": {
            "text/html": [
              "<div>\n",
              "<style scoped>\n",
              "    .dataframe tbody tr th:only-of-type {\n",
              "        vertical-align: middle;\n",
              "    }\n",
              "\n",
              "    .dataframe tbody tr th {\n",
              "        vertical-align: top;\n",
              "    }\n",
              "\n",
              "    .dataframe thead th {\n",
              "        text-align: right;\n",
              "    }\n",
              "</style>\n",
              "<table border=\"1\" class=\"dataframe\">\n",
              "  <thead>\n",
              "    <tr style=\"text-align: right;\">\n",
              "      <th></th>\n",
              "      <th>Unnamed: 0</th>\n",
              "      <th>State</th>\n",
              "      <th>District</th>\n",
              "      <th>Population</th>\n",
              "      <th>Children_Between_1_to_2_years</th>\n",
              "      <th>Total_Arthritis_Patient</th>\n",
              "      <th>Arthritis_Patient_Male</th>\n",
              "      <th>Arthritis_Patient_Female</th>\n",
              "      <th>Children_Vaccinated</th>\n",
              "      <th>Children_Immunized</th>\n",
              "      <th>Children_Vaccinated_at_Birth</th>\n",
              "      <th>Children_Not_Vaccinated</th>\n",
              "      <th>Total_Children_Weighted</th>\n",
              "      <th>Children_Weighted_less_than_2.5_Kg</th>\n",
              "      <th>Women_Aged_15_49_years</th>\n",
              "    </tr>\n",
              "  </thead>\n",
              "  <tbody>\n",
              "    <tr>\n",
              "      <th>0</th>\n",
              "      <td>0</td>\n",
              "      <td>Assam</td>\n",
              "      <td>0</td>\n",
              "      <td>64606</td>\n",
              "      <td>2371</td>\n",
              "      <td>1072.0</td>\n",
              "      <td>832.0</td>\n",
              "      <td>1328.0</td>\n",
              "      <td>76.5</td>\n",
              "      <td>62.1</td>\n",
              "      <td>67.7</td>\n",
              "      <td>4.3</td>\n",
              "      <td>55.3</td>\n",
              "      <td>22.5</td>\n",
              "      <td>12208.5</td>\n",
              "    </tr>\n",
              "    <tr>\n",
              "      <th>1</th>\n",
              "      <td>1</td>\n",
              "      <td>Assam</td>\n",
              "      <td>1</td>\n",
              "      <td>84012</td>\n",
              "      <td>2451</td>\n",
              "      <td>929.0</td>\n",
              "      <td>701.0</td>\n",
              "      <td>1171.0</td>\n",
              "      <td>67.8</td>\n",
              "      <td>52.4</td>\n",
              "      <td>73.7</td>\n",
              "      <td>3.4</td>\n",
              "      <td>55.7</td>\n",
              "      <td>21.6</td>\n",
              "      <td>16157.0</td>\n",
              "    </tr>\n",
              "    <tr>\n",
              "      <th>2</th>\n",
              "      <td>2</td>\n",
              "      <td>Assam</td>\n",
              "      <td>2</td>\n",
              "      <td>127158</td>\n",
              "      <td>5709</td>\n",
              "      <td>2964.0</td>\n",
              "      <td>2448.0</td>\n",
              "      <td>3474.0</td>\n",
              "      <td>71.3</td>\n",
              "      <td>64.5</td>\n",
              "      <td>82.0</td>\n",
              "      <td>2.7</td>\n",
              "      <td>61.7</td>\n",
              "      <td>27.8</td>\n",
              "      <td>22614.5</td>\n",
              "    </tr>\n",
              "    <tr>\n",
              "      <th>3</th>\n",
              "      <td>3</td>\n",
              "      <td>Assam</td>\n",
              "      <td>3</td>\n",
              "      <td>29048</td>\n",
              "      <td>984</td>\n",
              "      <td>1557.0</td>\n",
              "      <td>1360.0</td>\n",
              "      <td>1766.0</td>\n",
              "      <td>79.3</td>\n",
              "      <td>56.4</td>\n",
              "      <td>76.3</td>\n",
              "      <td>5.3</td>\n",
              "      <td>65.0</td>\n",
              "      <td>25.2</td>\n",
              "      <td>5225.5</td>\n",
              "    </tr>\n",
              "    <tr>\n",
              "      <th>4</th>\n",
              "      <td>4</td>\n",
              "      <td>Assam</td>\n",
              "      <td>4</td>\n",
              "      <td>75451</td>\n",
              "      <td>3467</td>\n",
              "      <td>1109.0</td>\n",
              "      <td>958.0</td>\n",
              "      <td>1265.0</td>\n",
              "      <td>80.4</td>\n",
              "      <td>66.6</td>\n",
              "      <td>78.5</td>\n",
              "      <td>7.5</td>\n",
              "      <td>74.1</td>\n",
              "      <td>14.5</td>\n",
              "      <td>13844.0</td>\n",
              "    </tr>\n",
              "  </tbody>\n",
              "</table>\n",
              "</div>"
            ],
            "text/plain": [
              "   Unnamed: 0  ... Women_Aged_15_49_years\n",
              "0           0  ...                12208.5\n",
              "1           1  ...                16157.0\n",
              "2           2  ...                22614.5\n",
              "3           3  ...                 5225.5\n",
              "4           4  ...                13844.0\n",
              "\n",
              "[5 rows x 15 columns]"
            ]
          },
          "metadata": {
            "tags": []
          },
          "execution_count": 9
        }
      ]
    },
    {
      "cell_type": "code",
      "metadata": {
        "id": "O4XBx-vB2AS1"
      },
      "source": [
        "df['Sum']=df['Total_Arthritis_Patient']+df['Children_Not_Vaccinated']*1000+df['Women_Aged_15_49_years']"
      ],
      "execution_count": null,
      "outputs": []
    },
    {
      "cell_type": "code",
      "metadata": {
        "colab": {
          "base_uri": "https://localhost:8080/"
        },
        "id": "ZNwuMM_X2AS2",
        "outputId": "338d245d-4a97-4272-ef9f-9713097ce7e8"
      },
      "source": [
        "np.mean(df['Sum'])"
      ],
      "execution_count": null,
      "outputs": [
        {
          "output_type": "execute_result",
          "data": {
            "text/plain": [
              "19854.591109154946"
            ]
          },
          "metadata": {
            "tags": []
          },
          "execution_count": 11
        }
      ]
    },
    {
      "cell_type": "code",
      "metadata": {
        "colab": {
          "base_uri": "https://localhost:8080/"
        },
        "id": "bT3p1DYy2AS3",
        "outputId": "2fbd0c9a-d1bd-49ee-f8a3-069f536ec4e0"
      },
      "source": [
        "for i in range(len(df['Sum'])):\n",
        "    if df['Sum'][i]>19854.591109154946:\n",
        "        df['Sum'][i]=1\n",
        "    else:\n",
        "        df['Sum'][i]=0"
      ],
      "execution_count": null,
      "outputs": [
        {
          "output_type": "stream",
          "text": [
            "/usr/local/lib/python3.7/dist-packages/ipykernel_launcher.py:5: SettingWithCopyWarning: \n",
            "A value is trying to be set on a copy of a slice from a DataFrame\n",
            "\n",
            "See the caveats in the documentation: https://pandas.pydata.org/pandas-docs/stable/user_guide/indexing.html#returning-a-view-versus-a-copy\n",
            "  \"\"\"\n",
            "/usr/local/lib/python3.7/dist-packages/ipykernel_launcher.py:3: SettingWithCopyWarning: \n",
            "A value is trying to be set on a copy of a slice from a DataFrame\n",
            "\n",
            "See the caveats in the documentation: https://pandas.pydata.org/pandas-docs/stable/user_guide/indexing.html#returning-a-view-versus-a-copy\n",
            "  This is separate from the ipykernel package so we can avoid doing imports until\n"
          ],
          "name": "stderr"
        }
      ]
    },
    {
      "cell_type": "code",
      "metadata": {
        "colab": {
          "base_uri": "https://localhost:8080/"
        },
        "id": "Pdnc-pf92AS4",
        "outputId": "6ed37ec2-2ba7-4fd6-d6f2-a454b761fabb"
      },
      "source": [
        "df['Sum']"
      ],
      "execution_count": null,
      "outputs": [
        {
          "output_type": "execute_result",
          "data": {
            "text/plain": [
              "0      0.0\n",
              "1      1.0\n",
              "2      1.0\n",
              "3      0.0\n",
              "4      1.0\n",
              "      ... \n",
              "279    1.0\n",
              "280    1.0\n",
              "281    1.0\n",
              "282    1.0\n",
              "283    1.0\n",
              "Name: Sum, Length: 284, dtype: float64"
            ]
          },
          "metadata": {
            "tags": []
          },
          "execution_count": 13
        }
      ]
    },
    {
      "cell_type": "code",
      "metadata": {
        "colab": {
          "base_uri": "https://localhost:8080/",
          "height": 332
        },
        "id": "5pMMGy-r2AS4",
        "outputId": "4e2e43d6-1bb1-4a1a-8f56-e77d8e8a36e4"
      },
      "source": [
        "df.describe()"
      ],
      "execution_count": null,
      "outputs": [
        {
          "output_type": "execute_result",
          "data": {
            "text/html": [
              "<div>\n",
              "<style scoped>\n",
              "    .dataframe tbody tr th:only-of-type {\n",
              "        vertical-align: middle;\n",
              "    }\n",
              "\n",
              "    .dataframe tbody tr th {\n",
              "        vertical-align: top;\n",
              "    }\n",
              "\n",
              "    .dataframe thead th {\n",
              "        text-align: right;\n",
              "    }\n",
              "</style>\n",
              "<table border=\"1\" class=\"dataframe\">\n",
              "  <thead>\n",
              "    <tr style=\"text-align: right;\">\n",
              "      <th></th>\n",
              "      <th>Unnamed: 0</th>\n",
              "      <th>District</th>\n",
              "      <th>Population</th>\n",
              "      <th>Children_Between_1_to_2_years</th>\n",
              "      <th>Total_Arthritis_Patient</th>\n",
              "      <th>Arthritis_Patient_Male</th>\n",
              "      <th>Arthritis_Patient_Female</th>\n",
              "      <th>Children_Vaccinated</th>\n",
              "      <th>Children_Immunized</th>\n",
              "      <th>Children_Vaccinated_at_Birth</th>\n",
              "      <th>Children_Not_Vaccinated</th>\n",
              "      <th>Total_Children_Weighted</th>\n",
              "      <th>Children_Weighted_less_than_2.5_Kg</th>\n",
              "      <th>Women_Aged_15_49_years</th>\n",
              "      <th>Sum</th>\n",
              "    </tr>\n",
              "  </thead>\n",
              "  <tbody>\n",
              "    <tr>\n",
              "      <th>count</th>\n",
              "      <td>284.000000</td>\n",
              "      <td>284.000000</td>\n",
              "      <td>284.000000</td>\n",
              "      <td>284.000000</td>\n",
              "      <td>284.000000</td>\n",
              "      <td>284.000000</td>\n",
              "      <td>284.000000</td>\n",
              "      <td>284.000000</td>\n",
              "      <td>284.000000</td>\n",
              "      <td>284.000000</td>\n",
              "      <td>284.000000</td>\n",
              "      <td>284.000000</td>\n",
              "      <td>284.000000</td>\n",
              "      <td>284.000000</td>\n",
              "      <td>284.000000</td>\n",
              "    </tr>\n",
              "    <tr>\n",
              "      <th>mean</th>\n",
              "      <td>141.500000</td>\n",
              "      <td>141.500000</td>\n",
              "      <td>74178.753521</td>\n",
              "      <td>2797.573944</td>\n",
              "      <td>1669.219894</td>\n",
              "      <td>1294.553521</td>\n",
              "      <td>2056.383275</td>\n",
              "      <td>76.127570</td>\n",
              "      <td>65.148415</td>\n",
              "      <td>77.996972</td>\n",
              "      <td>4.501549</td>\n",
              "      <td>56.796373</td>\n",
              "      <td>25.028556</td>\n",
              "      <td>13683.821919</td>\n",
              "      <td>0.422535</td>\n",
              "    </tr>\n",
              "    <tr>\n",
              "      <th>std</th>\n",
              "      <td>82.127949</td>\n",
              "      <td>82.127949</td>\n",
              "      <td>38613.108658</td>\n",
              "      <td>1466.468416</td>\n",
              "      <td>1262.853571</td>\n",
              "      <td>1015.984674</td>\n",
              "      <td>1573.960548</td>\n",
              "      <td>12.276199</td>\n",
              "      <td>14.546203</td>\n",
              "      <td>11.760262</td>\n",
              "      <td>4.243642</td>\n",
              "      <td>21.452351</td>\n",
              "      <td>8.894126</td>\n",
              "      <td>7189.642052</td>\n",
              "      <td>0.494835</td>\n",
              "    </tr>\n",
              "    <tr>\n",
              "      <th>min</th>\n",
              "      <td>0.000000</td>\n",
              "      <td>0.000000</td>\n",
              "      <td>13892.000000</td>\n",
              "      <td>623.000000</td>\n",
              "      <td>49.000000</td>\n",
              "      <td>29.000000</td>\n",
              "      <td>70.000000</td>\n",
              "      <td>32.090000</td>\n",
              "      <td>24.900000</td>\n",
              "      <td>32.500000</td>\n",
              "      <td>0.160000</td>\n",
              "      <td>10.130000</td>\n",
              "      <td>5.420000</td>\n",
              "      <td>2384.000000</td>\n",
              "      <td>0.000000</td>\n",
              "    </tr>\n",
              "    <tr>\n",
              "      <th>25%</th>\n",
              "      <td>70.750000</td>\n",
              "      <td>70.750000</td>\n",
              "      <td>49222.500000</td>\n",
              "      <td>1818.000000</td>\n",
              "      <td>757.385000</td>\n",
              "      <td>583.245000</td>\n",
              "      <td>958.767500</td>\n",
              "      <td>68.742500</td>\n",
              "      <td>54.805000</td>\n",
              "      <td>70.667500</td>\n",
              "      <td>1.900000</td>\n",
              "      <td>38.707500</td>\n",
              "      <td>18.962500</td>\n",
              "      <td>9033.500000</td>\n",
              "      <td>0.000000</td>\n",
              "    </tr>\n",
              "    <tr>\n",
              "      <th>50%</th>\n",
              "      <td>141.500000</td>\n",
              "      <td>141.500000</td>\n",
              "      <td>65206.500000</td>\n",
              "      <td>2499.500000</td>\n",
              "      <td>1328.555000</td>\n",
              "      <td>1003.845000</td>\n",
              "      <td>1630.220000</td>\n",
              "      <td>77.385000</td>\n",
              "      <td>66.125000</td>\n",
              "      <td>80.500000</td>\n",
              "      <td>3.240000</td>\n",
              "      <td>55.850000</td>\n",
              "      <td>23.605000</td>\n",
              "      <td>12139.250000</td>\n",
              "      <td>0.000000</td>\n",
              "    </tr>\n",
              "    <tr>\n",
              "      <th>75%</th>\n",
              "      <td>212.250000</td>\n",
              "      <td>212.250000</td>\n",
              "      <td>88998.500000</td>\n",
              "      <td>3434.250000</td>\n",
              "      <td>2264.247500</td>\n",
              "      <td>1710.250000</td>\n",
              "      <td>2762.960000</td>\n",
              "      <td>85.882500</td>\n",
              "      <td>76.800000</td>\n",
              "      <td>87.000000</td>\n",
              "      <td>5.742500</td>\n",
              "      <td>74.675000</td>\n",
              "      <td>30.325000</td>\n",
              "      <td>16172.500000</td>\n",
              "      <td>1.000000</td>\n",
              "    </tr>\n",
              "    <tr>\n",
              "      <th>max</th>\n",
              "      <td>283.000000</td>\n",
              "      <td>283.000000</td>\n",
              "      <td>303009.000000</td>\n",
              "      <td>11814.000000</td>\n",
              "      <td>7910.000000</td>\n",
              "      <td>7203.000000</td>\n",
              "      <td>8633.000000</td>\n",
              "      <td>96.550000</td>\n",
              "      <td>92.100000</td>\n",
              "      <td>96.940000</td>\n",
              "      <td>30.670000</td>\n",
              "      <td>95.470000</td>\n",
              "      <td>54.700000</td>\n",
              "      <td>55407.500000</td>\n",
              "      <td>1.000000</td>\n",
              "    </tr>\n",
              "  </tbody>\n",
              "</table>\n",
              "</div>"
            ],
            "text/plain": [
              "       Unnamed: 0    District  ...  Women_Aged_15_49_years         Sum\n",
              "count  284.000000  284.000000  ...              284.000000  284.000000\n",
              "mean   141.500000  141.500000  ...            13683.821919    0.422535\n",
              "std     82.127949   82.127949  ...             7189.642052    0.494835\n",
              "min      0.000000    0.000000  ...             2384.000000    0.000000\n",
              "25%     70.750000   70.750000  ...             9033.500000    0.000000\n",
              "50%    141.500000  141.500000  ...            12139.250000    0.000000\n",
              "75%    212.250000  212.250000  ...            16172.500000    1.000000\n",
              "max    283.000000  283.000000  ...            55407.500000    1.000000\n",
              "\n",
              "[8 rows x 15 columns]"
            ]
          },
          "metadata": {
            "tags": []
          },
          "execution_count": 14
        }
      ]
    },
    {
      "cell_type": "code",
      "metadata": {
        "colab": {
          "base_uri": "https://localhost:8080/"
        },
        "id": "fxnIxRhO2AS6",
        "outputId": "a159924d-84ed-479b-804f-20ef47fc151f"
      },
      "source": [
        "df.info()"
      ],
      "execution_count": null,
      "outputs": [
        {
          "output_type": "stream",
          "text": [
            "<class 'pandas.core.frame.DataFrame'>\n",
            "RangeIndex: 284 entries, 0 to 283\n",
            "Data columns (total 16 columns):\n",
            " #   Column                              Non-Null Count  Dtype  \n",
            "---  ------                              --------------  -----  \n",
            " 0   Unnamed: 0                          284 non-null    int64  \n",
            " 1   State                               284 non-null    object \n",
            " 2   District                            284 non-null    int64  \n",
            " 3   Population                          284 non-null    int64  \n",
            " 4   Children_Between_1_to_2_years       284 non-null    int64  \n",
            " 5   Total_Arthritis_Patient             284 non-null    float64\n",
            " 6   Arthritis_Patient_Male              284 non-null    float64\n",
            " 7   Arthritis_Patient_Female            284 non-null    float64\n",
            " 8   Children_Vaccinated                 284 non-null    float64\n",
            " 9   Children_Immunized                  284 non-null    float64\n",
            " 10  Children_Vaccinated_at_Birth        284 non-null    float64\n",
            " 11  Children_Not_Vaccinated             284 non-null    float64\n",
            " 12  Total_Children_Weighted             284 non-null    float64\n",
            " 13  Children_Weighted_less_than_2.5_Kg  284 non-null    float64\n",
            " 14  Women_Aged_15_49_years              284 non-null    float64\n",
            " 15  Sum                                 284 non-null    float64\n",
            "dtypes: float64(11), int64(4), object(1)\n",
            "memory usage: 35.6+ KB\n"
          ],
          "name": "stdout"
        }
      ]
    },
    {
      "cell_type": "code",
      "metadata": {
        "id": "zuOq02Gp2AS8"
      },
      "source": [
        "df.drop(columns=['State','Population','Children_Between_1_to_2_years','Arthritis_Patient_Male','Arthritis_Patient_Female','Children_Vaccinated','Children_Immunized','Children_Vaccinated_at_Birth','Total_Children_Weighted','Children_Weighted_less_than_2.5_Kg'],inplace=True)"
      ],
      "execution_count": null,
      "outputs": []
    },
    {
      "cell_type": "code",
      "metadata": {
        "id": "IDHvU5PS2AS9"
      },
      "source": [
        "df.drop(columns=['Unnamed: 0'],inplace=True)"
      ],
      "execution_count": null,
      "outputs": []
    },
    {
      "cell_type": "code",
      "metadata": {
        "colab": {
          "base_uri": "https://localhost:8080/"
        },
        "id": "KiUnEj9C2AS9",
        "outputId": "ea65eed1-0b82-48c7-bb6d-3d9838546058"
      },
      "source": [
        "print(df.columns)"
      ],
      "execution_count": null,
      "outputs": [
        {
          "output_type": "stream",
          "text": [
            "Index(['District', 'Total_Arthritis_Patient', 'Children_Not_Vaccinated',\n",
            "       'Women_Aged_15_49_years', 'Sum'],\n",
            "      dtype='object')\n"
          ],
          "name": "stdout"
        }
      ]
    },
    {
      "cell_type": "code",
      "metadata": {
        "colab": {
          "base_uri": "https://localhost:8080/",
          "height": 203
        },
        "id": "zP514ELO2AS9",
        "outputId": "54a7f035-fb47-443e-a833-44d8a0aad384"
      },
      "source": [
        "df.head()"
      ],
      "execution_count": null,
      "outputs": [
        {
          "output_type": "execute_result",
          "data": {
            "text/html": [
              "<div>\n",
              "<style scoped>\n",
              "    .dataframe tbody tr th:only-of-type {\n",
              "        vertical-align: middle;\n",
              "    }\n",
              "\n",
              "    .dataframe tbody tr th {\n",
              "        vertical-align: top;\n",
              "    }\n",
              "\n",
              "    .dataframe thead th {\n",
              "        text-align: right;\n",
              "    }\n",
              "</style>\n",
              "<table border=\"1\" class=\"dataframe\">\n",
              "  <thead>\n",
              "    <tr style=\"text-align: right;\">\n",
              "      <th></th>\n",
              "      <th>District</th>\n",
              "      <th>Total_Arthritis_Patient</th>\n",
              "      <th>Children_Not_Vaccinated</th>\n",
              "      <th>Women_Aged_15_49_years</th>\n",
              "      <th>Sum</th>\n",
              "    </tr>\n",
              "  </thead>\n",
              "  <tbody>\n",
              "    <tr>\n",
              "      <th>0</th>\n",
              "      <td>0</td>\n",
              "      <td>1072.0</td>\n",
              "      <td>4.3</td>\n",
              "      <td>12208.5</td>\n",
              "      <td>0.0</td>\n",
              "    </tr>\n",
              "    <tr>\n",
              "      <th>1</th>\n",
              "      <td>1</td>\n",
              "      <td>929.0</td>\n",
              "      <td>3.4</td>\n",
              "      <td>16157.0</td>\n",
              "      <td>1.0</td>\n",
              "    </tr>\n",
              "    <tr>\n",
              "      <th>2</th>\n",
              "      <td>2</td>\n",
              "      <td>2964.0</td>\n",
              "      <td>2.7</td>\n",
              "      <td>22614.5</td>\n",
              "      <td>1.0</td>\n",
              "    </tr>\n",
              "    <tr>\n",
              "      <th>3</th>\n",
              "      <td>3</td>\n",
              "      <td>1557.0</td>\n",
              "      <td>5.3</td>\n",
              "      <td>5225.5</td>\n",
              "      <td>0.0</td>\n",
              "    </tr>\n",
              "    <tr>\n",
              "      <th>4</th>\n",
              "      <td>4</td>\n",
              "      <td>1109.0</td>\n",
              "      <td>7.5</td>\n",
              "      <td>13844.0</td>\n",
              "      <td>1.0</td>\n",
              "    </tr>\n",
              "  </tbody>\n",
              "</table>\n",
              "</div>"
            ],
            "text/plain": [
              "   District  Total_Arthritis_Patient  ...  Women_Aged_15_49_years  Sum\n",
              "0         0                   1072.0  ...                 12208.5  0.0\n",
              "1         1                    929.0  ...                 16157.0  1.0\n",
              "2         2                   2964.0  ...                 22614.5  1.0\n",
              "3         3                   1557.0  ...                  5225.5  0.0\n",
              "4         4                   1109.0  ...                 13844.0  1.0\n",
              "\n",
              "[5 rows x 5 columns]"
            ]
          },
          "metadata": {
            "tags": []
          },
          "execution_count": 19
        }
      ]
    },
    {
      "cell_type": "code",
      "metadata": {
        "id": "ElTwdVU72AS-"
      },
      "source": [
        "df['Total']=df['Total_Arthritis_Patient']+df['Children_Not_Vaccinated']*1000+df['Women_Aged_15_49_years']"
      ],
      "execution_count": null,
      "outputs": []
    },
    {
      "cell_type": "code",
      "metadata": {
        "colab": {
          "base_uri": "https://localhost:8080/",
          "height": 203
        },
        "id": "jTx0CvDM3-QN",
        "outputId": "71d9351a-024b-47ba-aaa9-2f9ba13df564"
      },
      "source": [
        "df.head()"
      ],
      "execution_count": null,
      "outputs": [
        {
          "output_type": "execute_result",
          "data": {
            "text/html": [
              "<div>\n",
              "<style scoped>\n",
              "    .dataframe tbody tr th:only-of-type {\n",
              "        vertical-align: middle;\n",
              "    }\n",
              "\n",
              "    .dataframe tbody tr th {\n",
              "        vertical-align: top;\n",
              "    }\n",
              "\n",
              "    .dataframe thead th {\n",
              "        text-align: right;\n",
              "    }\n",
              "</style>\n",
              "<table border=\"1\" class=\"dataframe\">\n",
              "  <thead>\n",
              "    <tr style=\"text-align: right;\">\n",
              "      <th></th>\n",
              "      <th>District</th>\n",
              "      <th>Total_Arthritis_Patient</th>\n",
              "      <th>Children_Not_Vaccinated</th>\n",
              "      <th>Women_Aged_15_49_years</th>\n",
              "      <th>Sum</th>\n",
              "      <th>Total</th>\n",
              "    </tr>\n",
              "  </thead>\n",
              "  <tbody>\n",
              "    <tr>\n",
              "      <th>0</th>\n",
              "      <td>0</td>\n",
              "      <td>1072.0</td>\n",
              "      <td>4.3</td>\n",
              "      <td>12208.5</td>\n",
              "      <td>0.0</td>\n",
              "      <td>17580.5</td>\n",
              "    </tr>\n",
              "    <tr>\n",
              "      <th>1</th>\n",
              "      <td>1</td>\n",
              "      <td>929.0</td>\n",
              "      <td>3.4</td>\n",
              "      <td>16157.0</td>\n",
              "      <td>1.0</td>\n",
              "      <td>20486.0</td>\n",
              "    </tr>\n",
              "    <tr>\n",
              "      <th>2</th>\n",
              "      <td>2</td>\n",
              "      <td>2964.0</td>\n",
              "      <td>2.7</td>\n",
              "      <td>22614.5</td>\n",
              "      <td>1.0</td>\n",
              "      <td>28278.5</td>\n",
              "    </tr>\n",
              "    <tr>\n",
              "      <th>3</th>\n",
              "      <td>3</td>\n",
              "      <td>1557.0</td>\n",
              "      <td>5.3</td>\n",
              "      <td>5225.5</td>\n",
              "      <td>0.0</td>\n",
              "      <td>12082.5</td>\n",
              "    </tr>\n",
              "    <tr>\n",
              "      <th>4</th>\n",
              "      <td>4</td>\n",
              "      <td>1109.0</td>\n",
              "      <td>7.5</td>\n",
              "      <td>13844.0</td>\n",
              "      <td>1.0</td>\n",
              "      <td>22453.0</td>\n",
              "    </tr>\n",
              "  </tbody>\n",
              "</table>\n",
              "</div>"
            ],
            "text/plain": [
              "   District  Total_Arthritis_Patient  ...  Sum    Total\n",
              "0         0                   1072.0  ...  0.0  17580.5\n",
              "1         1                    929.0  ...  1.0  20486.0\n",
              "2         2                   2964.0  ...  1.0  28278.5\n",
              "3         3                   1557.0  ...  0.0  12082.5\n",
              "4         4                   1109.0  ...  1.0  22453.0\n",
              "\n",
              "[5 rows x 6 columns]"
            ]
          },
          "metadata": {
            "tags": []
          },
          "execution_count": 21
        }
      ]
    },
    {
      "cell_type": "code",
      "metadata": {
        "colab": {
          "base_uri": "https://localhost:8080/"
        },
        "id": "iGwQi7IA6snt",
        "outputId": "d6164210-dcab-48b9-c9ff-1227a0b5dd88"
      },
      "source": [
        "df.info"
      ],
      "execution_count": null,
      "outputs": [
        {
          "output_type": "execute_result",
          "data": {
            "text/plain": [
              "<bound method DataFrame.info of      District  Total_Arthritis_Patient  ...  Sum     Total\n",
              "0           0                  1072.00  ...  0.0  17580.50\n",
              "1           1                   929.00  ...  1.0  20486.00\n",
              "2           2                  2964.00  ...  1.0  28278.50\n",
              "3           3                  1557.00  ...  0.0  12082.50\n",
              "4           4                  1109.00  ...  1.0  22453.00\n",
              "..        ...                      ...  ...  ...       ...\n",
              "279       279                  5884.42  ...  1.0  27875.92\n",
              "280       280                  4110.77  ...  1.0  33409.77\n",
              "281       281                  1332.66  ...  1.0  46335.16\n",
              "282       282                  1612.24  ...  1.0  20175.74\n",
              "283       283                   851.41  ...  1.0  21951.91\n",
              "\n",
              "[284 rows x 6 columns]>"
            ]
          },
          "metadata": {
            "tags": []
          },
          "execution_count": 22
        }
      ]
    },
    {
      "cell_type": "code",
      "metadata": {
        "id": "j5g3FEOc4kH_"
      },
      "source": [
        "X = df.iloc[:,[0,5]].values"
      ],
      "execution_count": null,
      "outputs": []
    },
    {
      "cell_type": "code",
      "metadata": {
        "colab": {
          "base_uri": "https://localhost:8080/"
        },
        "id": "K2gydotB4tAR",
        "outputId": "0d531b4f-73c4-4fd1-f134-6c9526ab4024"
      },
      "source": [
        "print(X)"
      ],
      "execution_count": null,
      "outputs": [
        {
          "output_type": "stream",
          "text": [
            "[[0.0000000e+00 1.7580500e+04]\n",
            " [1.0000000e+00 2.0486000e+04]\n",
            " [2.0000000e+00 2.8278500e+04]\n",
            " [3.0000000e+00 1.2082500e+04]\n",
            " [4.0000000e+00 2.2453000e+04]\n",
            " [5.0000000e+00 1.9552000e+04]\n",
            " [6.0000000e+00 2.4781500e+04]\n",
            " [7.0000000e+00 2.0933000e+04]\n",
            " [8.0000000e+00 2.2405500e+04]\n",
            " [9.0000000e+00 1.3444000e+04]\n",
            " [1.0000000e+01 4.3000500e+04]\n",
            " [1.1000000e+01 3.4046000e+04]\n",
            " [1.2000000e+01 2.2575000e+04]\n",
            " [1.3000000e+01 1.6884000e+04]\n",
            " [1.4000000e+01 7.4845000e+03]\n",
            " [1.5000000e+01 8.3400000e+03]\n",
            " [1.6000000e+01 2.9742500e+04]\n",
            " [1.7000000e+01 2.6440000e+04]\n",
            " [1.8000000e+01 7.4390000e+03]\n",
            " [1.9000000e+01 1.5426000e+04]\n",
            " [2.0000000e+01 1.7365500e+04]\n",
            " [2.1000000e+01 2.9623500e+04]\n",
            " [2.2000000e+01 3.0877500e+04]\n",
            " [2.3000000e+01 2.1586500e+04]\n",
            " [2.4000000e+01 1.6462500e+04]\n",
            " [2.5000000e+01 1.9821000e+04]\n",
            " [2.6000000e+01 2.1443500e+04]\n",
            " [2.7000000e+01 1.6502000e+04]\n",
            " [2.8000000e+01 2.3824000e+04]\n",
            " [2.9000000e+01 2.5286000e+04]\n",
            " [3.0000000e+01 1.6981000e+04]\n",
            " [3.1000000e+01 1.4158000e+04]\n",
            " [3.2000000e+01 2.1527000e+04]\n",
            " [3.3000000e+01 1.5900000e+04]\n",
            " [3.4000000e+01 2.6948500e+04]\n",
            " [3.5000000e+01 1.7066000e+04]\n",
            " [3.6000000e+01 2.1570000e+04]\n",
            " [3.7000000e+01 3.3322500e+04]\n",
            " [3.8000000e+01 2.0080000e+04]\n",
            " [3.9000000e+01 2.8540500e+04]\n",
            " [4.0000000e+01 2.1647000e+04]\n",
            " [4.1000000e+01 2.8976000e+04]\n",
            " [4.2000000e+01 1.9913000e+04]\n",
            " [4.3000000e+01 2.2916000e+04]\n",
            " [4.4000000e+01 1.9257500e+04]\n",
            " [4.5000000e+01 1.8306500e+04]\n",
            " [4.6000000e+01 1.6337500e+04]\n",
            " [4.7000000e+01 3.0591500e+04]\n",
            " [4.8000000e+01 2.8268000e+04]\n",
            " [4.9000000e+01 1.3749500e+04]\n",
            " [5.0000000e+01 1.8229500e+04]\n",
            " [5.1000000e+01 1.7908500e+04]\n",
            " [5.2000000e+01 2.1045500e+04]\n",
            " [5.3000000e+01 2.1084500e+04]\n",
            " [5.4000000e+01 1.6536500e+04]\n",
            " [5.5000000e+01 1.9012500e+04]\n",
            " [5.6000000e+01 2.0482500e+04]\n",
            " [5.7000000e+01 2.9892000e+04]\n",
            " [5.8000000e+01 2.2403000e+04]\n",
            " [5.9000000e+01 2.2252500e+04]\n",
            " [6.0000000e+01 1.6306470e+04]\n",
            " [6.1000000e+01 2.3729640e+04]\n",
            " [6.2000000e+01 1.9455930e+04]\n",
            " [6.3000000e+01 2.4471060e+04]\n",
            " [6.4000000e+01 2.6915610e+04]\n",
            " [6.5000000e+01 2.0992840e+04]\n",
            " [6.6000000e+01 1.3619450e+04]\n",
            " [6.7000000e+01 1.2491560e+04]\n",
            " [6.8000000e+01 9.3269000e+03]\n",
            " [6.9000000e+01 2.6231080e+04]\n",
            " [7.0000000e+01 1.2707670e+04]\n",
            " [7.1000000e+01 1.4855870e+04]\n",
            " [7.2000000e+01 1.8712930e+04]\n",
            " [7.3000000e+01 2.7192930e+04]\n",
            " [7.4000000e+01 1.5058790e+04]\n",
            " [7.5000000e+01 1.8093970e+04]\n",
            " [7.6000000e+01 2.4751500e+04]\n",
            " [7.7000000e+01 2.0242500e+04]\n",
            " [7.8000000e+01 1.7169500e+04]\n",
            " [7.9000000e+01 2.7525000e+04]\n",
            " [8.0000000e+01 1.7288000e+04]\n",
            " [8.1000000e+01 2.4889000e+04]\n",
            " [8.2000000e+01 3.3915500e+04]\n",
            " [8.3000000e+01 1.7890000e+04]\n",
            " [8.4000000e+01 3.0619000e+04]\n",
            " [8.5000000e+01 2.7119000e+04]\n",
            " [8.6000000e+01 1.7712500e+04]\n",
            " [8.7000000e+01 2.2666500e+04]\n",
            " [8.8000000e+01 1.0560000e+04]\n",
            " [8.9000000e+01 2.9940000e+04]\n",
            " [9.0000000e+01 2.4198500e+04]\n",
            " [9.1000000e+01 3.5802000e+04]\n",
            " [9.2000000e+01 2.6817000e+04]\n",
            " [9.3000000e+01 5.5193500e+04]\n",
            " [9.4000000e+01 1.8942710e+04]\n",
            " [9.5000000e+01 1.5579790e+04]\n",
            " [9.6000000e+01 1.6797790e+04]\n",
            " [9.7000000e+01 2.3938300e+04]\n",
            " [9.8000000e+01 1.8501700e+04]\n",
            " [9.9000000e+01 1.2992830e+04]\n",
            " [1.0000000e+02 1.3623260e+04]\n",
            " [1.0100000e+02 1.5444850e+04]\n",
            " [1.0200000e+02 1.3637830e+04]\n",
            " [1.0300000e+02 1.8465040e+04]\n",
            " [1.0400000e+02 1.0270020e+04]\n",
            " [1.0500000e+02 1.1087740e+04]\n",
            " [1.0600000e+02 1.4188220e+04]\n",
            " [1.0700000e+02 8.8764700e+03]\n",
            " [1.0800000e+02 1.4094340e+04]\n",
            " [1.0900000e+02 1.7840020e+04]\n",
            " [1.1000000e+02 1.8053920e+04]\n",
            " [1.1100000e+02 2.7700190e+04]\n",
            " [1.1200000e+02 1.9804800e+04]\n",
            " [1.1300000e+02 2.0236750e+04]\n",
            " [1.1400000e+02 1.0928200e+04]\n",
            " [1.1500000e+02 1.6526960e+04]\n",
            " [1.1600000e+02 1.9575510e+04]\n",
            " [1.1700000e+02 1.2102170e+04]\n",
            " [1.1800000e+02 1.2478220e+04]\n",
            " [1.1900000e+02 1.5135820e+04]\n",
            " [1.2000000e+02 1.2366670e+04]\n",
            " [1.2100000e+02 9.0479400e+03]\n",
            " [1.2200000e+02 1.1769140e+04]\n",
            " [1.2300000e+02 1.3433005e+04]\n",
            " [1.2400000e+02 1.1234660e+04]\n",
            " [1.2500000e+02 1.4119070e+04]\n",
            " [1.2600000e+02 1.7239470e+04]\n",
            " [1.2700000e+02 1.0041450e+04]\n",
            " [1.2800000e+02 1.0415690e+04]\n",
            " [1.2900000e+02 1.5330720e+04]\n",
            " [1.3000000e+02 1.3545940e+04]\n",
            " [1.3100000e+02 1.4108420e+04]\n",
            " [1.3200000e+02 1.0776970e+04]\n",
            " [1.3300000e+02 1.6335420e+04]\n",
            " [1.3400000e+02 1.6041490e+04]\n",
            " [1.3500000e+02 1.1882550e+04]\n",
            " [1.3600000e+02 2.3690190e+04]\n",
            " [1.3700000e+02 1.0137700e+04]\n",
            " [1.3800000e+02 2.2917260e+04]\n",
            " [1.3900000e+02 1.8365210e+04]\n",
            " [1.4000000e+02 1.2295310e+04]\n",
            " [1.4100000e+02 1.4436290e+04]\n",
            " [1.4200000e+02 2.0470640e+04]\n",
            " [1.4300000e+02 8.9967400e+03]\n",
            " [1.4400000e+02 2.0646670e+04]\n",
            " [1.4500000e+02 2.1139900e+04]\n",
            " [1.4600000e+02 1.0510660e+04]\n",
            " [1.4700000e+02 1.7267760e+04]\n",
            " [1.4800000e+02 1.3107400e+04]\n",
            " [1.4900000e+02 1.6912330e+04]\n",
            " [1.5000000e+02 1.3461770e+04]\n",
            " [1.5100000e+02 1.7919680e+04]\n",
            " [1.5200000e+02 3.6741030e+04]\n",
            " [1.5300000e+02 1.1034180e+04]\n",
            " [1.5400000e+02 8.2156000e+03]\n",
            " [1.5500000e+02 1.4486950e+04]\n",
            " [1.5600000e+02 1.5248800e+04]\n",
            " [1.5700000e+02 4.1311600e+04]\n",
            " [1.5800000e+02 9.1873900e+03]\n",
            " [1.5900000e+02 1.5361100e+04]\n",
            " [1.6000000e+02 1.1215310e+04]\n",
            " [1.6100000e+02 1.3855130e+04]\n",
            " [1.6200000e+02 9.9943300e+03]\n",
            " [1.6300000e+02 1.7209930e+04]\n",
            " [1.6400000e+02 1.8520520e+04]\n",
            " [1.6500000e+02 8.0718400e+03]\n",
            " [1.6600000e+02 1.1835460e+04]\n",
            " [1.6700000e+02 1.3858670e+04]\n",
            " [1.6800000e+02 1.3976830e+04]\n",
            " [1.6900000e+02 1.8546000e+04]\n",
            " [1.7000000e+02 1.8024500e+04]\n",
            " [1.7100000e+02 1.4293500e+04]\n",
            " [1.7200000e+02 1.1440500e+04]\n",
            " [1.7300000e+02 2.9169500e+04]\n",
            " [1.7400000e+02 2.0652000e+04]\n",
            " [1.7500000e+02 1.4100000e+04]\n",
            " [1.7600000e+02 1.9611000e+04]\n",
            " [1.7700000e+02 1.3774500e+04]\n",
            " [1.7800000e+02 1.5019500e+04]\n",
            " [1.7900000e+02 1.7568500e+04]\n",
            " [1.8000000e+02 1.4556500e+04]\n",
            " [1.8100000e+02 1.1090000e+04]\n",
            " [1.8200000e+02 2.0381500e+04]\n",
            " [1.8300000e+02 1.4660500e+04]\n",
            " [1.8400000e+02 1.4024000e+04]\n",
            " [1.8500000e+02 1.7636500e+04]\n",
            " [1.8600000e+02 1.6574500e+04]\n",
            " [1.8700000e+02 2.2690500e+04]\n",
            " [1.8800000e+02 1.3375500e+04]\n",
            " [1.8900000e+02 2.4906000e+04]\n",
            " [1.9000000e+02 2.9149500e+04]\n",
            " [1.9100000e+02 9.6360000e+03]\n",
            " [1.9200000e+02 1.0758000e+04]\n",
            " [1.9300000e+02 1.9981500e+04]\n",
            " [1.9400000e+02 2.1451500e+04]\n",
            " [1.9500000e+02 1.6632000e+04]\n",
            " [1.9600000e+02 1.0813000e+04]\n",
            " [1.9700000e+02 2.3071500e+04]\n",
            " [1.9800000e+02 1.8661000e+04]\n",
            " [1.9900000e+02 1.7326000e+04]\n",
            " [2.0000000e+02 1.3048000e+04]\n",
            " [2.0100000e+02 3.0635460e+04]\n",
            " [2.0200000e+02 1.4052780e+04]\n",
            " [2.0300000e+02 2.2554620e+04]\n",
            " [2.0400000e+02 2.2221830e+04]\n",
            " [2.0500000e+02 2.9613310e+04]\n",
            " [2.0600000e+02 2.8839110e+04]\n",
            " [2.0700000e+02 2.1345570e+04]\n",
            " [2.0800000e+02 2.9868380e+04]\n",
            " [2.0900000e+02 2.1434980e+04]\n",
            " [2.1000000e+02 3.8383240e+04]\n",
            " [2.1100000e+02 1.3567700e+04]\n",
            " [2.1200000e+02 1.7490300e+04]\n",
            " [2.1300000e+02 1.9071180e+04]\n",
            " [2.1400000e+02 1.6809780e+04]\n",
            " [2.1500000e+02 1.2454830e+04]\n",
            " [2.1600000e+02 1.5792790e+04]\n",
            " [2.1700000e+02 1.6039210e+04]\n",
            " [2.1800000e+02 2.8720570e+04]\n",
            " [2.1900000e+02 2.1966110e+04]\n",
            " [2.2000000e+02 2.2841230e+04]\n",
            " [2.2100000e+02 1.3996900e+04]\n",
            " [2.2200000e+02 2.0665030e+04]\n",
            " [2.2300000e+02 1.8557840e+04]\n",
            " [2.2400000e+02 2.2457370e+04]\n",
            " [2.2500000e+02 1.6017250e+04]\n",
            " [2.2600000e+02 1.6009390e+04]\n",
            " [2.2700000e+02 2.0966590e+04]\n",
            " [2.2800000e+02 2.3500940e+04]\n",
            " [2.2900000e+02 2.1048730e+04]\n",
            " [2.3000000e+02 2.3196360e+04]\n",
            " [2.3100000e+02 2.6938910e+04]\n",
            " [2.3200000e+02 1.1731280e+04]\n",
            " [2.3300000e+02 2.4500650e+04]\n",
            " [2.3400000e+02 1.5190380e+04]\n",
            " [2.3500000e+02 1.8770480e+04]\n",
            " [2.3600000e+02 1.8866910e+04]\n",
            " [2.3700000e+02 1.8131840e+04]\n",
            " [2.3800000e+02 1.3436880e+04]\n",
            " [2.3900000e+02 3.3999640e+04]\n",
            " [2.4000000e+02 1.5275240e+04]\n",
            " [2.4100000e+02 3.3864870e+04]\n",
            " [2.4200000e+02 3.6181050e+04]\n",
            " [2.4300000e+02 2.4489180e+04]\n",
            " [2.4400000e+02 1.8651210e+04]\n",
            " [2.4500000e+02 1.1355840e+04]\n",
            " [2.4600000e+02 2.1923640e+04]\n",
            " [2.4700000e+02 2.3748740e+04]\n",
            " [2.4800000e+02 1.2601460e+04]\n",
            " [2.4900000e+02 1.5272760e+04]\n",
            " [2.5000000e+02 1.5439470e+04]\n",
            " [2.5100000e+02 2.2728020e+04]\n",
            " [2.5200000e+02 1.9096080e+04]\n",
            " [2.5300000e+02 1.9719950e+04]\n",
            " [2.5400000e+02 1.5183440e+04]\n",
            " [2.5500000e+02 1.6964440e+04]\n",
            " [2.5600000e+02 1.4298660e+04]\n",
            " [2.5700000e+02 2.6919890e+04]\n",
            " [2.5800000e+02 1.4206210e+04]\n",
            " [2.5900000e+02 1.6330290e+04]\n",
            " [2.6000000e+02 1.3127070e+04]\n",
            " [2.6100000e+02 1.3582540e+04]\n",
            " [2.6200000e+02 2.9599740e+04]\n",
            " [2.6300000e+02 1.5252480e+04]\n",
            " [2.6400000e+02 4.0075830e+04]\n",
            " [2.6500000e+02 2.7208530e+04]\n",
            " [2.6600000e+02 2.7059460e+04]\n",
            " [2.6700000e+02 3.6176980e+04]\n",
            " [2.6800000e+02 1.6342860e+04]\n",
            " [2.6900000e+02 2.0513640e+04]\n",
            " [2.7000000e+02 2.5143070e+04]\n",
            " [2.7100000e+02 2.6389700e+04]\n",
            " [2.7200000e+02 3.0155090e+04]\n",
            " [2.7300000e+02 3.5556150e+04]\n",
            " [2.7400000e+02 1.1852710e+04]\n",
            " [2.7500000e+02 5.8693890e+04]\n",
            " [2.7600000e+02 2.7100120e+04]\n",
            " [2.7700000e+02 2.1554550e+04]\n",
            " [2.7800000e+02 4.2568240e+04]\n",
            " [2.7900000e+02 2.7875920e+04]\n",
            " [2.8000000e+02 3.3409770e+04]\n",
            " [2.8100000e+02 4.6335160e+04]\n",
            " [2.8200000e+02 2.0175740e+04]\n",
            " [2.8300000e+02 2.1951910e+04]]\n"
          ],
          "name": "stdout"
        }
      ]
    },
    {
      "cell_type": "code",
      "metadata": {
        "id": "7G1pegaK4XZk"
      },
      "source": [
        "wcss = []\n",
        "for i in range(1,11):\n",
        "  kmeans = KMeans(n_clusters=i, init='k-means++', random_state=42)\n",
        "  kmeans.fit(X)\n",
        "\n",
        "  wcss.append(kmeans.inertia_)"
      ],
      "execution_count": null,
      "outputs": []
    },
    {
      "cell_type": "code",
      "metadata": {
        "colab": {
          "base_uri": "https://localhost:8080/",
          "height": 301
        },
        "id": "NiZ9BjMV7_RC",
        "outputId": "7decfb1f-1241-46a6-a39a-9f3c1b364894"
      },
      "source": [
        "sns.set()\n",
        "plt.plot(range(1,11), wcss)\n",
        "plt.title('The Elbow Point Graph')\n",
        "plt.xlabel('Number of Clusters')\n",
        "plt.ylabel('WCSS')\n",
        "plt.show()"
      ],
      "execution_count": null,
      "outputs": [
        {
          "output_type": "display_data",
          "data": {
            "image/png": "[encoded data removed]",
            "text/plain": [
              "<Figure size 432x288 with 1 Axes>"
            ]
          },
          "metadata": {
            "tags": []
          }
        }
      ]
    },
    {
      "cell_type": "code",
      "metadata": {
        "colab": {
          "base_uri": "https://localhost:8080/"
        },
        "id": "oEJQM0EW8LcD",
        "outputId": "00d69874-e5e2-4131-f722-e81cec7bf4a3"
      },
      "source": [
        "kmeans = KMeans(n_clusters=4, init='k-means++', random_state=0)\n",
        "\n",
        "# return a label for each data point based on their cluster\n",
        "Y = kmeans.fit_predict(X)\n",
        "\n",
        "print(Y)"
      ],
      "execution_count": null,
      "outputs": [
        {
          "output_type": "stream",
          "text": [
            "[2 2 1 0 2 2 2 2 2 0 3 1 2 0 0 0 1 1 0 0 2 1 1 2 0 2 2 0 2 1 2 0 2 0 1 2 2\n",
            " 1 2 1 2 1 2 2 2 2 0 1 1 0 2 2 2 2 0 2 2 1 2 2 0 2 2 2 1 2 0 0 0 1 0 0 2 1\n",
            " 0 2 2 2 2 1 2 2 1 2 1 1 2 2 0 1 2 1 1 3 2 0 0 2 2 0 0 0 0 2 0 0 0 0 0 2 2\n",
            " 1 2 2 0 0 2 0 0 0 0 0 0 0 0 0 2 0 0 0 0 0 0 0 0 0 2 0 2 2 0 0 2 0 2 2 0 2\n",
            " 0 0 0 2 1 0 0 0 0 3 0 0 0 0 0 2 2 0 0 0 0 2 2 0 0 1 2 0 2 0 0 2 0 0 2 0 0\n",
            " 2 0 2 0 2 1 0 0 2 2 0 0 2 2 2 0 1 0 2 2 1 1 2 1 2 3 0 2 2 0 0 0 0 1 2 2 0\n",
            " 2 2 2 0 0 2 2 2 2 1 0 2 0 2 2 2 0 1 0 1 1 2 2 0 2 2 0 0 0 2 2 2 0 2 0 1 0\n",
            " 0 0 0 1 0 3 1 1 1 0 2 2 1 1 1 0 3 1 2 3 1 1 3 2 2]\n"
          ],
          "name": "stdout"
        }
      ]
    },
    {
      "cell_type": "code",
      "metadata": {
        "colab": {
          "base_uri": "https://localhost:8080/",
          "height": 518
        },
        "id": "6eCRXlys8SYs",
        "outputId": "c97a7289-b7ee-447e-f2b4-68bb511e34ae"
      },
      "source": [
        "plt.figure(figsize=(8,8))\n",
        "plt.scatter(X[Y==0,0], X[Y==0,1], s=50, c='green', label='Cluster 1')\n",
        "plt.scatter(X[Y==1,0], X[Y==1,1], s=50, c='red', label='Cluster 2')\n",
        "plt.scatter(X[Y==2,0], X[Y==2,1], s=50, c='yellow', label='Cluster 3')\n",
        "plt.scatter(X[Y==3,0], X[Y==3,1], s=50, c='violet', label='Cluster 4')\n",
        "# plt.scatter(X[Y==4,0], X[Y==4,1], s=50, c='blue', label='Cluster 5')\n",
        "\n",
        "plt.scatter(kmeans.cluster_centers_[:,0], kmeans.cluster_centers_[:,1], s=100, c='cyan', label='Centroids')\n",
        "\n",
        "plt.title('Customer Groups')\n",
        "plt.xlabel('District')\n",
        "plt.ylabel('Potential market')\n",
        "plt.show()"
      ],
      "execution_count": null,
      "outputs": [
        {
          "output_type": "display_data",
          "data": {
            "image/png": "[encoded data removed]",
            "text/plain": [
              "<Figure size 576x576 with 1 Axes>"
            ]
          },
          "metadata": {
            "tags": []
          }
        }
      ]
    }
  ]
}