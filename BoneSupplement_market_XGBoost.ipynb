{
  "nbformat": 4,
  "nbformat_minor": 0,
  "metadata": {
    "kernelspec": {
      "display_name": "Python 3",
      "language": "python",
      "name": "python3"
    },
    "language_info": {
      "codemirror_mode": {
        "name": "ipython",
        "version": 3
      },
      "file_extension": ".py",
      "mimetype": "text/x-python",
      "name": "python",
      "nbconvert_exporter": "python",
      "pygments_lexer": "ipython3",
      "version": "3.8.5"
    },
    "colab": {
      "name": "FynnLab_(1).ipynb",
      "provenance": [],
      "collapsed_sections": []
    }
  },
  "cells": [
    {
      "cell_type": "code",
      "metadata": {
        "id": "mRdtd4n1iPfE"
      },
      "source": [
        "import matplotlib.pyplot as plt\n",
        "import seaborn as sns\n",
        "import sklearn.datasets\n",
        "from sklearn.model_selection import train_test_split\n",
        "from xgboost import XGBRegressor\n",
        "import pandas as pd\n",
        "from sklearn import metrics\n",
        "from sklearn.metrics import accuracy_score\n",
        "import numpy as np"
      ],
      "execution_count": 10,
      "outputs": []
    },
    {
      "cell_type": "code",
      "metadata": {
        "colab": {
          "base_uri": "https://localhost:8080/"
        },
        "id": "fGUE2xt0HbHR",
        "outputId": "daa50754-611f-4909-99be-a89a3c0dbfb8"
      },
      "source": [
        "from google.colab import drive\n",
        "drive.mount('/content/drive')"
      ],
      "execution_count": 5,
      "outputs": [
        {
          "output_type": "stream",
          "text": [
            "Drive already mounted at /content/drive; to attempt to forcibly remount, call drive.mount(\"/content/drive\", force_remount=True).\n"
          ],
          "name": "stdout"
        }
      ]
    },
    {
      "cell_type": "code",
      "metadata": {
        "colab": {
          "base_uri": "https://localhost:8080/"
        },
        "id": "fPQU1jddHsnD",
        "outputId": "e8b98de9-4a06-46b6-d06b-49678a2c240e"
      },
      "source": [
        "%cd drive/MyDrive/"
      ],
      "execution_count": 6,
      "outputs": [
        {
          "output_type": "stream",
          "text": [
            "[Errno 2] No such file or directory: 'drive/MyDrive/'\n",
            "/content/drive/MyDrive\n"
          ],
          "name": "stdout"
        }
      ]
    },
    {
      "cell_type": "code",
      "metadata": {
        "id": "YgTNqlBqpT24"
      },
      "source": [
        "df=pd.read_csv(\"Final.csv\")\n",
        "df1=pd.read_csv(\"Final.csv\")"
      ],
      "execution_count": 73,
      "outputs": []
    },
    {
      "cell_type": "code",
      "metadata": {
        "colab": {
          "base_uri": "https://localhost:8080/",
          "height": 241
        },
        "id": "fuEjc6cv2OXG",
        "outputId": "2052bbe8-e8bd-48ca-d3ee-c75b1edaf73f"
      },
      "source": [
        "df.head()"
      ],
      "execution_count": 145,
      "outputs": [
        {
          "output_type": "execute_result",
          "data": {
            "text/html": [
              "<div>\n",
              "<style scoped>\n",
              "    .dataframe tbody tr th:only-of-type {\n",
              "        vertical-align: middle;\n",
              "    }\n",
              "\n",
              "    .dataframe tbody tr th {\n",
              "        vertical-align: top;\n",
              "    }\n",
              "\n",
              "    .dataframe thead th {\n",
              "        text-align: right;\n",
              "    }\n",
              "</style>\n",
              "<table border=\"1\" class=\"dataframe\">\n",
              "  <thead>\n",
              "    <tr style=\"text-align: right;\">\n",
              "      <th></th>\n",
              "      <th>Unnamed: 0</th>\n",
              "      <th>State</th>\n",
              "      <th>District</th>\n",
              "      <th>Population</th>\n",
              "      <th>Children_Between_1_to_2_years</th>\n",
              "      <th>Total_Arthritis_Patient</th>\n",
              "      <th>Arthritis_Patient_Male</th>\n",
              "      <th>Arthritis_Patient_Female</th>\n",
              "      <th>Children_Vaccinated</th>\n",
              "      <th>Children_Immunized</th>\n",
              "      <th>Children_Vaccinated_at_Birth</th>\n",
              "      <th>Children_Not_Vaccinated</th>\n",
              "      <th>Total_Children_Weighted</th>\n",
              "      <th>Children_Weighted_less_than_2.5_Kg</th>\n",
              "      <th>Women_Aged_15_49_years</th>\n",
              "      <th>Sum</th>\n",
              "    </tr>\n",
              "  </thead>\n",
              "  <tbody>\n",
              "    <tr>\n",
              "      <th>0</th>\n",
              "      <td>0</td>\n",
              "      <td>Assam</td>\n",
              "      <td>0</td>\n",
              "      <td>64606</td>\n",
              "      <td>2371</td>\n",
              "      <td>1072.0</td>\n",
              "      <td>832.0</td>\n",
              "      <td>1328.0</td>\n",
              "      <td>76.5</td>\n",
              "      <td>62.1</td>\n",
              "      <td>67.7</td>\n",
              "      <td>4.3</td>\n",
              "      <td>55.3</td>\n",
              "      <td>22.5</td>\n",
              "      <td>12208.5</td>\n",
              "      <td>0.0</td>\n",
              "    </tr>\n",
              "    <tr>\n",
              "      <th>1</th>\n",
              "      <td>1</td>\n",
              "      <td>Assam</td>\n",
              "      <td>1</td>\n",
              "      <td>84012</td>\n",
              "      <td>2451</td>\n",
              "      <td>929.0</td>\n",
              "      <td>701.0</td>\n",
              "      <td>1171.0</td>\n",
              "      <td>67.8</td>\n",
              "      <td>52.4</td>\n",
              "      <td>73.7</td>\n",
              "      <td>3.4</td>\n",
              "      <td>55.7</td>\n",
              "      <td>21.6</td>\n",
              "      <td>16157.0</td>\n",
              "      <td>1.0</td>\n",
              "    </tr>\n",
              "    <tr>\n",
              "      <th>2</th>\n",
              "      <td>2</td>\n",
              "      <td>Assam</td>\n",
              "      <td>2</td>\n",
              "      <td>127158</td>\n",
              "      <td>5709</td>\n",
              "      <td>2964.0</td>\n",
              "      <td>2448.0</td>\n",
              "      <td>3474.0</td>\n",
              "      <td>71.3</td>\n",
              "      <td>64.5</td>\n",
              "      <td>82.0</td>\n",
              "      <td>2.7</td>\n",
              "      <td>61.7</td>\n",
              "      <td>27.8</td>\n",
              "      <td>22614.5</td>\n",
              "      <td>1.0</td>\n",
              "    </tr>\n",
              "    <tr>\n",
              "      <th>3</th>\n",
              "      <td>3</td>\n",
              "      <td>Assam</td>\n",
              "      <td>3</td>\n",
              "      <td>29048</td>\n",
              "      <td>984</td>\n",
              "      <td>1557.0</td>\n",
              "      <td>1360.0</td>\n",
              "      <td>1766.0</td>\n",
              "      <td>79.3</td>\n",
              "      <td>56.4</td>\n",
              "      <td>76.3</td>\n",
              "      <td>5.3</td>\n",
              "      <td>65.0</td>\n",
              "      <td>25.2</td>\n",
              "      <td>5225.5</td>\n",
              "      <td>0.0</td>\n",
              "    </tr>\n",
              "    <tr>\n",
              "      <th>4</th>\n",
              "      <td>4</td>\n",
              "      <td>Assam</td>\n",
              "      <td>4</td>\n",
              "      <td>75451</td>\n",
              "      <td>3467</td>\n",
              "      <td>1109.0</td>\n",
              "      <td>958.0</td>\n",
              "      <td>1265.0</td>\n",
              "      <td>80.4</td>\n",
              "      <td>66.6</td>\n",
              "      <td>78.5</td>\n",
              "      <td>7.5</td>\n",
              "      <td>74.1</td>\n",
              "      <td>14.5</td>\n",
              "      <td>13844.0</td>\n",
              "      <td>1.0</td>\n",
              "    </tr>\n",
              "  </tbody>\n",
              "</table>\n",
              "</div>"
            ],
            "text/plain": [
              "   Unnamed: 0  State  ...  Women_Aged_15_49_years  Sum\n",
              "0           0  Assam  ...                 12208.5  0.0\n",
              "1           1  Assam  ...                 16157.0  1.0\n",
              "2           2  Assam  ...                 22614.5  1.0\n",
              "3           3  Assam  ...                  5225.5  0.0\n",
              "4           4  Assam  ...                 13844.0  1.0\n",
              "\n",
              "[5 rows x 16 columns]"
            ]
          },
          "metadata": {
            "tags": []
          },
          "execution_count": 145
        }
      ]
    },
    {
      "cell_type": "code",
      "metadata": {
        "id": "nGw__gUcTLKi"
      },
      "source": [
        "#sorting districts in accordance to total arthritis patient\n",
        "df1.sort_values([\"Total_Arthritis_Patient\"], \n",
        "                    axis=0,\n",
        "                    ascending=[False], \n",
        "                    inplace=True)"
      ],
      "execution_count": 74,
      "outputs": []
    },
    {
      "cell_type": "code",
      "metadata": {
        "id": "P9ko9y7Sh3ra"
      },
      "source": [
        "#taking top 20 dist. with arthritis patient\n",
        "popArt = df1.iloc[:19, :]"
      ],
      "execution_count": 140,
      "outputs": []
    },
    {
      "cell_type": "code",
      "metadata": {
        "id": "yAHkuCKUpkWz"
      },
      "source": [
        ""
      ],
      "execution_count": 142,
      "outputs": []
    },
    {
      "cell_type": "code",
      "metadata": {
        "colab": {
          "base_uri": "https://localhost:8080/",
          "height": 258
        },
        "id": "ECryF_j1q6Sc",
        "outputId": "7a24749d-3a42-4dae-daee-36a7119512eb"
      },
      "source": [
        "popArt.head()"
      ],
      "execution_count": 143,
      "outputs": [
        {
          "output_type": "execute_result",
          "data": {
            "text/html": [
              "<div>\n",
              "<style scoped>\n",
              "    .dataframe tbody tr th:only-of-type {\n",
              "        vertical-align: middle;\n",
              "    }\n",
              "\n",
              "    .dataframe tbody tr th {\n",
              "        vertical-align: top;\n",
              "    }\n",
              "\n",
              "    .dataframe thead th {\n",
              "        text-align: right;\n",
              "    }\n",
              "</style>\n",
              "<table border=\"1\" class=\"dataframe\">\n",
              "  <thead>\n",
              "    <tr style=\"text-align: right;\">\n",
              "      <th></th>\n",
              "      <th>Unnamed: 0</th>\n",
              "      <th>State</th>\n",
              "      <th>District</th>\n",
              "      <th>Population</th>\n",
              "      <th>Total_Arthritis_Patient</th>\n",
              "      <th>Arthritis_Patient_Male</th>\n",
              "      <th>Arthritis_Patient_Female</th>\n",
              "      <th>Children_Vaccinated</th>\n",
              "      <th>Children_Immunized</th>\n",
              "      <th>Children_Vaccinated_at_Birth</th>\n",
              "      <th>Children_Not_Vaccinated</th>\n",
              "      <th>Total_Children_Weighted</th>\n",
              "      <th>Children_Weighted_less_than_2.5_Kg</th>\n",
              "      <th>Women_Aged_15_49_years</th>\n",
              "    </tr>\n",
              "  </thead>\n",
              "  <tbody>\n",
              "    <tr>\n",
              "      <th>10</th>\n",
              "      <td>10</td>\n",
              "      <td>Assam</td>\n",
              "      <td>Jorhat</td>\n",
              "      <td>172958</td>\n",
              "      <td>7910.00</td>\n",
              "      <td>7203.00</td>\n",
              "      <td>8633.00</td>\n",
              "      <td>81.00</td>\n",
              "      <td>70.90</td>\n",
              "      <td>84.90</td>\n",
              "      <td>1.30</td>\n",
              "      <td>81.00</td>\n",
              "      <td>22.50</td>\n",
              "      <td>33790.5</td>\n",
              "    </tr>\n",
              "    <tr>\n",
              "      <th>8</th>\n",
              "      <td>8</td>\n",
              "      <td>Assam</td>\n",
              "      <td>Golaghat</td>\n",
              "      <td>72165</td>\n",
              "      <td>7202.00</td>\n",
              "      <td>6482.00</td>\n",
              "      <td>7945.00</td>\n",
              "      <td>76.90</td>\n",
              "      <td>69.40</td>\n",
              "      <td>80.50</td>\n",
              "      <td>1.40</td>\n",
              "      <td>75.50</td>\n",
              "      <td>24.70</td>\n",
              "      <td>13803.5</td>\n",
              "    </tr>\n",
              "    <tr>\n",
              "      <th>279</th>\n",
              "      <td>279</td>\n",
              "      <td>Uttarakhand</td>\n",
              "      <td>Pithoragarh</td>\n",
              "      <td>102999</td>\n",
              "      <td>5884.42</td>\n",
              "      <td>3469.81</td>\n",
              "      <td>8116.12</td>\n",
              "      <td>94.88</td>\n",
              "      <td>88.74</td>\n",
              "      <td>70.43</td>\n",
              "      <td>1.28</td>\n",
              "      <td>55.39</td>\n",
              "      <td>30.58</td>\n",
              "      <td>20711.5</td>\n",
              "    </tr>\n",
              "    <tr>\n",
              "      <th>239</th>\n",
              "      <td>239</td>\n",
              "      <td>Uttar Pradesh</td>\n",
              "      <td>Kannauj</td>\n",
              "      <td>156432</td>\n",
              "      <td>5631.64</td>\n",
              "      <td>4161.75</td>\n",
              "      <td>7212.32</td>\n",
              "      <td>59.10</td>\n",
              "      <td>46.44</td>\n",
              "      <td>64.07</td>\n",
              "      <td>2.95</td>\n",
              "      <td>40.99</td>\n",
              "      <td>21.89</td>\n",
              "      <td>25418.0</td>\n",
              "    </tr>\n",
              "    <tr>\n",
              "      <th>20</th>\n",
              "      <td>20</td>\n",
              "      <td>Assam</td>\n",
              "      <td>Sibsagar</td>\n",
              "      <td>57972</td>\n",
              "      <td>5621.00</td>\n",
              "      <td>4907.00</td>\n",
              "      <td>6369.00</td>\n",
              "      <td>88.40</td>\n",
              "      <td>83.50</td>\n",
              "      <td>92.40</td>\n",
              "      <td>0.80</td>\n",
              "      <td>86.30</td>\n",
              "      <td>23.50</td>\n",
              "      <td>10944.5</td>\n",
              "    </tr>\n",
              "  </tbody>\n",
              "</table>\n",
              "</div>"
            ],
            "text/plain": [
              "     Unnamed: 0  ... Women_Aged_15_49_years\n",
              "10           10  ...                33790.5\n",
              "8             8  ...                13803.5\n",
              "279         279  ...                20711.5\n",
              "239         239  ...                25418.0\n",
              "20           20  ...                10944.5\n",
              "\n",
              "[5 rows x 14 columns]"
            ]
          },
          "metadata": {
            "tags": []
          },
          "execution_count": 143
        }
      ]
    },
    {
      "cell_type": "code",
      "metadata": {
        "colab": {
          "base_uri": "https://localhost:8080/",
          "height": 313
        },
        "id": "4Ck_s0jIVIbO",
        "outputId": "e2bbfdf3-b460-41ce-b5f4-30b79a4d9990"
      },
      "source": [
        "import matplotlib.pyplot as plt\n",
        "\n",
        "TotalPop = popArt['Population'].sum()\n",
        "TotalArt = popArt['Total_Arthritis_Patient'].sum()\n",
        "sizes = [((TotalArt/(TotalPop+TotalArt))*100), ((TotalPop/(TotalPop+TotalArt))*100)]\n",
        "labels = ['Total Arthritis', 'Total Population']\n",
        "colors = ['gold', 'lightskyblue']\n",
        "\n",
        "patches, texts = plt.pie(sizes, colors=colors, shadow=True, startangle=90)\n",
        "plt.legend(patches, labels, loc=\"best\")\n",
        "plt.axis('equal')\n",
        "plt.tight_layout()\n",
        "plt.title('Total Population vs Total Arthritits pateint in top 20 dist.')\n",
        "plt.show()\n"
      ],
      "execution_count": 144,
      "outputs": [
        {
          "output_type": "display_data",
          "data": {
            "image/png": "[encoded data removed]",
            "text/plain": [
              "<Figure size 432x288 with 1 Axes>"
            ]
          },
          "metadata": {
            "tags": []
          }
        }
      ]
    },
    {
      "cell_type": "code",
      "metadata": {
        "colab": {
          "base_uri": "https://localhost:8080/",
          "height": 474
        },
        "id": "ypO6-LX9ywXJ",
        "outputId": "8e2b4cfa-50c8-40b2-d8e7-b5608fd49faf"
      },
      "source": [
        "popArt['Population*10'] = popArt['Population']/10\n",
        "\n",
        "popArt.plot(x=\"District\", y=[\"Population*10\", \"Total_Arthritis_Patient\",], kind='bar')\n",
        "plt.title('Population vs Arthritits pateint in top 20 dist.')\n"
      ],
      "execution_count": 126,
      "outputs": [
        {
          "output_type": "stream",
          "text": [
            "/usr/local/lib/python3.7/dist-packages/ipykernel_launcher.py:1: SettingWithCopyWarning: \n",
            "A value is trying to be set on a copy of a slice from a DataFrame.\n",
            "Try using .loc[row_indexer,col_indexer] = value instead\n",
            "\n",
            "See the caveats in the documentation: https://pandas.pydata.org/pandas-docs/stable/user_guide/indexing.html#returning-a-view-versus-a-copy\n",
            "  \"\"\"Entry point for launching an IPython kernel.\n"
          ],
          "name": "stderr"
        },
        {
          "output_type": "execute_result",
          "data": {
            "text/plain": [
              "Text(0.5, 1.0, 'Population vs Arthritits pateint in top 20 dist.')"
            ]
          },
          "metadata": {
            "tags": []
          },
          "execution_count": 126
        },
        {
          "output_type": "display_data",
          "data": {
            "image/png": "[encoded data removed]",
            "text/plain": [
              "<Figure size 432x288 with 1 Axes>"
            ]
          },
          "metadata": {
            "tags": [],
            "needs_background": "light"
          }
        }
      ]
    },
    {
      "cell_type": "code",
      "metadata": {
        "colab": {
          "base_uri": "https://localhost:8080/",
          "height": 372
        },
        "id": "7YeiclFe0ak6",
        "outputId": "81642d86-71c7-497a-dae8-8b1cef33bb74"
      },
      "source": [
        "popArt.plot(x=\"District\", y=[\"Women_Aged_15_49_years\", \"Total_Arthritis_Patient\",], kind='bar')\n",
        "plt.title('Women aged 15-49 yrs vs Arthritits pateint in top 20 dist.')\n"
      ],
      "execution_count": 131,
      "outputs": [
        {
          "output_type": "execute_result",
          "data": {
            "text/plain": [
              "Text(0.5, 1.0, 'Women aged 15-49 yrs vs Arthritits pateint in top 20 dist.')"
            ]
          },
          "metadata": {
            "tags": []
          },
          "execution_count": 131
        },
        {
          "output_type": "display_data",
          "data": {
            "image/png": "[encoded data removed]",
            "text/plain": [
              "<Figure size 432x288 with 1 Axes>"
            ]
          },
          "metadata": {
            "tags": [],
            "needs_background": "light"
          }
        }
      ]
    },
    {
      "cell_type": "code",
      "metadata": {
        "id": "77sOhLUQiPfJ"
      },
      "source": [
        "district=df['District'].unique()"
      ],
      "execution_count": 132,
      "outputs": []
    },
    {
      "cell_type": "code",
      "metadata": {
        "colab": {
          "base_uri": "https://localhost:8080/"
        },
        "id": "68QONeqKiPfJ",
        "outputId": "236bf624-1514-402c-9b6b-699aa1955d60"
      },
      "source": [
        "import numpy as np\n",
        "np.array(district)"
      ],
      "execution_count": 133,
      "outputs": [
        {
          "output_type": "execute_result",
          "data": {
            "text/plain": [
              "array([  0,   1,   2,   3,   4,   5,   6,   7,   8,   9,  10,  11,  12,\n",
              "        13,  14,  15,  16,  17,  18,  19,  20,  21,  22,  23,  24,  25,\n",
              "        26,  27,  28,  29,  30,  31,  32,  33,  34,  35,  36,  37,  38,\n",
              "        39,  40,  41,  42,  43,  44,  45,  46,  47,  48,  49,  50,  51,\n",
              "        52,  53,  54,  55,  56,  57,  58,  59,  60,  61,  62,  63,  64,\n",
              "        65,  66,  67,  68,  69,  70,  71,  72,  73,  74,  75,  76,  77,\n",
              "        78,  79,  80,  81,  82,  83,  84,  85,  86,  87,  88,  89,  90,\n",
              "        91,  92,  93,  94,  95,  96,  97,  98,  99, 100, 101, 102, 103,\n",
              "       104, 105, 106, 107, 108, 109, 110, 111, 112, 113, 114, 115, 116,\n",
              "       117, 118, 119, 120, 121, 122, 123, 124, 125, 126, 127, 128, 129,\n",
              "       130, 131, 132, 133, 134, 135, 136, 137, 138, 139, 140, 141, 142,\n",
              "       143, 144, 145, 146, 147, 148, 149, 150, 151, 152, 153, 154, 155,\n",
              "       156, 157, 158, 159, 160, 161, 162, 163, 164, 165, 166, 167, 168,\n",
              "       169, 170, 171, 172, 173, 174, 175, 176, 177, 178, 179, 180, 181,\n",
              "       182, 183, 184, 185, 186, 187, 188, 189, 190, 191, 192, 193, 194,\n",
              "       195, 196, 197, 198, 199, 200, 201, 202, 203, 204, 205, 206, 207,\n",
              "       208, 209, 210, 211, 212, 213, 214, 215, 216, 217, 218, 219, 220,\n",
              "       221, 222, 223, 224, 225, 226, 227, 228, 229, 230, 231, 232, 233,\n",
              "       234, 235, 236, 237, 238, 239, 240, 241, 242, 243, 244, 245, 246,\n",
              "       247, 248, 249, 250, 251, 252, 253, 254, 255, 256, 257, 258, 259,\n",
              "       260, 261, 262, 263, 264, 265, 266, 267, 268, 269, 270, 271, 272,\n",
              "       273, 274, 275, 276, 277, 278, 279, 280, 281, 282, 283])"
            ]
          },
          "metadata": {
            "tags": []
          },
          "execution_count": 133
        }
      ]
    },
    {
      "cell_type": "code",
      "metadata": {
        "colab": {
          "base_uri": "https://localhost:8080/"
        },
        "id": "JALhHAqCiPfK",
        "outputId": "61e527fc-525b-41b1-f386-5e0cebbc85b8"
      },
      "source": [
        "#district.sort()\n",
        "print(len(district))"
      ],
      "execution_count": 134,
      "outputs": [
        {
          "output_type": "stream",
          "text": [
            "284\n"
          ],
          "name": "stdout"
        }
      ]
    },
    {
      "cell_type": "code",
      "metadata": {
        "colab": {
          "base_uri": "https://localhost:8080/"
        },
        "id": "7_dlbXuYiPfK",
        "outputId": "f397daa3-5815-486b-c42d-4dad99acf7ec"
      },
      "source": [
        "dist={}\n",
        "for i in range(len(district)):\n",
        "    dist[district[i]]=i\n",
        "df['District']=df.District.astype(object)\n",
        "df['District'].replace(dist,inplace=True)\n",
        "print(df['District'])"
      ],
      "execution_count": 135,
      "outputs": [
        {
          "output_type": "stream",
          "text": [
            "0        0\n",
            "1        1\n",
            "2        2\n",
            "3        3\n",
            "4        4\n",
            "      ... \n",
            "279    279\n",
            "280    280\n",
            "281    281\n",
            "282    282\n",
            "283    283\n",
            "Name: District, Length: 284, dtype: int64\n"
          ],
          "name": "stdout"
        }
      ]
    },
    {
      "cell_type": "code",
      "metadata": {
        "colab": {
          "base_uri": "https://localhost:8080/",
          "height": 241
        },
        "id": "by0P36_HiPfL",
        "outputId": "f7508db9-2280-480e-a520-4dd31f5e4b0b"
      },
      "source": [
        "df.head()"
      ],
      "execution_count": 136,
      "outputs": [
        {
          "output_type": "execute_result",
          "data": {
            "text/html": [
              "<div>\n",
              "<style scoped>\n",
              "    .dataframe tbody tr th:only-of-type {\n",
              "        vertical-align: middle;\n",
              "    }\n",
              "\n",
              "    .dataframe tbody tr th {\n",
              "        vertical-align: top;\n",
              "    }\n",
              "\n",
              "    .dataframe thead th {\n",
              "        text-align: right;\n",
              "    }\n",
              "</style>\n",
              "<table border=\"1\" class=\"dataframe\">\n",
              "  <thead>\n",
              "    <tr style=\"text-align: right;\">\n",
              "      <th></th>\n",
              "      <th>Unnamed: 0</th>\n",
              "      <th>State</th>\n",
              "      <th>District</th>\n",
              "      <th>Population</th>\n",
              "      <th>Children_Between_1_to_2_years</th>\n",
              "      <th>Total_Arthritis_Patient</th>\n",
              "      <th>Arthritis_Patient_Male</th>\n",
              "      <th>Arthritis_Patient_Female</th>\n",
              "      <th>Children_Vaccinated</th>\n",
              "      <th>Children_Immunized</th>\n",
              "      <th>Children_Vaccinated_at_Birth</th>\n",
              "      <th>Children_Not_Vaccinated</th>\n",
              "      <th>Total_Children_Weighted</th>\n",
              "      <th>Children_Weighted_less_than_2.5_Kg</th>\n",
              "      <th>Women_Aged_15_49_years</th>\n",
              "    </tr>\n",
              "  </thead>\n",
              "  <tbody>\n",
              "    <tr>\n",
              "      <th>0</th>\n",
              "      <td>0</td>\n",
              "      <td>Assam</td>\n",
              "      <td>0</td>\n",
              "      <td>64606</td>\n",
              "      <td>2371</td>\n",
              "      <td>1072.0</td>\n",
              "      <td>832.0</td>\n",
              "      <td>1328.0</td>\n",
              "      <td>76.5</td>\n",
              "      <td>62.1</td>\n",
              "      <td>67.7</td>\n",
              "      <td>4.3</td>\n",
              "      <td>55.3</td>\n",
              "      <td>22.5</td>\n",
              "      <td>12208.5</td>\n",
              "    </tr>\n",
              "    <tr>\n",
              "      <th>1</th>\n",
              "      <td>1</td>\n",
              "      <td>Assam</td>\n",
              "      <td>1</td>\n",
              "      <td>84012</td>\n",
              "      <td>2451</td>\n",
              "      <td>929.0</td>\n",
              "      <td>701.0</td>\n",
              "      <td>1171.0</td>\n",
              "      <td>67.8</td>\n",
              "      <td>52.4</td>\n",
              "      <td>73.7</td>\n",
              "      <td>3.4</td>\n",
              "      <td>55.7</td>\n",
              "      <td>21.6</td>\n",
              "      <td>16157.0</td>\n",
              "    </tr>\n",
              "    <tr>\n",
              "      <th>2</th>\n",
              "      <td>2</td>\n",
              "      <td>Assam</td>\n",
              "      <td>2</td>\n",
              "      <td>127158</td>\n",
              "      <td>5709</td>\n",
              "      <td>2964.0</td>\n",
              "      <td>2448.0</td>\n",
              "      <td>3474.0</td>\n",
              "      <td>71.3</td>\n",
              "      <td>64.5</td>\n",
              "      <td>82.0</td>\n",
              "      <td>2.7</td>\n",
              "      <td>61.7</td>\n",
              "      <td>27.8</td>\n",
              "      <td>22614.5</td>\n",
              "    </tr>\n",
              "    <tr>\n",
              "      <th>3</th>\n",
              "      <td>3</td>\n",
              "      <td>Assam</td>\n",
              "      <td>3</td>\n",
              "      <td>29048</td>\n",
              "      <td>984</td>\n",
              "      <td>1557.0</td>\n",
              "      <td>1360.0</td>\n",
              "      <td>1766.0</td>\n",
              "      <td>79.3</td>\n",
              "      <td>56.4</td>\n",
              "      <td>76.3</td>\n",
              "      <td>5.3</td>\n",
              "      <td>65.0</td>\n",
              "      <td>25.2</td>\n",
              "      <td>5225.5</td>\n",
              "    </tr>\n",
              "    <tr>\n",
              "      <th>4</th>\n",
              "      <td>4</td>\n",
              "      <td>Assam</td>\n",
              "      <td>4</td>\n",
              "      <td>75451</td>\n",
              "      <td>3467</td>\n",
              "      <td>1109.0</td>\n",
              "      <td>958.0</td>\n",
              "      <td>1265.0</td>\n",
              "      <td>80.4</td>\n",
              "      <td>66.6</td>\n",
              "      <td>78.5</td>\n",
              "      <td>7.5</td>\n",
              "      <td>74.1</td>\n",
              "      <td>14.5</td>\n",
              "      <td>13844.0</td>\n",
              "    </tr>\n",
              "  </tbody>\n",
              "</table>\n",
              "</div>"
            ],
            "text/plain": [
              "   Unnamed: 0  ... Women_Aged_15_49_years\n",
              "0           0  ...                12208.5\n",
              "1           1  ...                16157.0\n",
              "2           2  ...                22614.5\n",
              "3           3  ...                 5225.5\n",
              "4           4  ...                13844.0\n",
              "\n",
              "[5 rows x 15 columns]"
            ]
          },
          "metadata": {
            "tags": []
          },
          "execution_count": 136
        }
      ]
    },
    {
      "cell_type": "code",
      "metadata": {
        "id": "5NSgJKNpiPfL"
      },
      "source": [
        "df['Sum']=df['Total_Arthritis_Patient']+df['Children_Not_Vaccinated']*1000+df['Women_Aged_15_49_years']"
      ],
      "execution_count": 137,
      "outputs": []
    },
    {
      "cell_type": "code",
      "metadata": {
        "colab": {
          "base_uri": "https://localhost:8080/"
        },
        "id": "Sn5D8JsoiPfM",
        "outputId": "f04a5a1e-22fa-4c83-ed8c-fc3672de5d0d"
      },
      "source": [
        "np.mean(df['Sum'])"
      ],
      "execution_count": 138,
      "outputs": [
        {
          "output_type": "execute_result",
          "data": {
            "text/plain": [
              "19854.591109154946"
            ]
          },
          "metadata": {
            "tags": []
          },
          "execution_count": 138
        }
      ]
    },
    {
      "cell_type": "code",
      "metadata": {
        "colab": {
          "base_uri": "https://localhost:8080/"
        },
        "id": "4tW7glXuiPfM",
        "outputId": "f128d9b2-5a5a-4f7f-b6a1-b9cc6b416de0"
      },
      "source": [
        "for i in range(len(df['Sum'])):\n",
        "    if df['Sum'][i]>19854.591109154946:\n",
        "        df['Sum'][i]=1\n",
        "    else:\n",
        "        df['Sum'][i]=0"
      ],
      "execution_count": 139,
      "outputs": [
        {
          "output_type": "stream",
          "text": [
            "/usr/local/lib/python3.7/dist-packages/ipykernel_launcher.py:5: SettingWithCopyWarning: \n",
            "A value is trying to be set on a copy of a slice from a DataFrame\n",
            "\n",
            "See the caveats in the documentation: https://pandas.pydata.org/pandas-docs/stable/user_guide/indexing.html#returning-a-view-versus-a-copy\n",
            "  \"\"\"\n",
            "/usr/local/lib/python3.7/dist-packages/ipykernel_launcher.py:3: SettingWithCopyWarning: \n",
            "A value is trying to be set on a copy of a slice from a DataFrame\n",
            "\n",
            "See the caveats in the documentation: https://pandas.pydata.org/pandas-docs/stable/user_guide/indexing.html#returning-a-view-versus-a-copy\n",
            "  This is separate from the ipykernel package so we can avoid doing imports until\n"
          ],
          "name": "stderr"
        }
      ]
    },
    {
      "cell_type": "code",
      "metadata": {
        "colab": {
          "base_uri": "https://localhost:8080/"
        },
        "id": "dNcvHRl8iPfM",
        "outputId": "6c92ca19-3861-4745-8e62-708676de7f04"
      },
      "source": [
        "df['Sum']"
      ],
      "execution_count": null,
      "outputs": [
        {
          "output_type": "execute_result",
          "data": {
            "text/plain": [
              "0      0.0\n",
              "1      1.0\n",
              "2      1.0\n",
              "3      0.0\n",
              "4      1.0\n",
              "      ... \n",
              "279    1.0\n",
              "280    1.0\n",
              "281    1.0\n",
              "282    1.0\n",
              "283    1.0\n",
              "Name: Sum, Length: 284, dtype: float64"
            ]
          },
          "metadata": {
            "tags": []
          },
          "execution_count": 69
        }
      ]
    },
    {
      "cell_type": "code",
      "metadata": {
        "colab": {
          "base_uri": "https://localhost:8080/",
          "height": 332
        },
        "id": "mpdk48QxiPfN",
        "outputId": "a853a6da-099a-4726-90bb-0f500121a0a0"
      },
      "source": [
        "df.describe()"
      ],
      "execution_count": null,
      "outputs": [
        {
          "output_type": "execute_result",
          "data": {
            "text/html": [
              "<div>\n",
              "<style scoped>\n",
              "    .dataframe tbody tr th:only-of-type {\n",
              "        vertical-align: middle;\n",
              "    }\n",
              "\n",
              "    .dataframe tbody tr th {\n",
              "        vertical-align: top;\n",
              "    }\n",
              "\n",
              "    .dataframe thead th {\n",
              "        text-align: right;\n",
              "    }\n",
              "</style>\n",
              "<table border=\"1\" class=\"dataframe\">\n",
              "  <thead>\n",
              "    <tr style=\"text-align: right;\">\n",
              "      <th></th>\n",
              "      <th>Unnamed: 0</th>\n",
              "      <th>District</th>\n",
              "      <th>Population</th>\n",
              "      <th>Children_Between_1_to_2_years</th>\n",
              "      <th>Total_Arthritis_Patient</th>\n",
              "      <th>Arthritis_Patient_Male</th>\n",
              "      <th>Arthritis_Patient_Female</th>\n",
              "      <th>Children_Vaccinated</th>\n",
              "      <th>Children_Immunized</th>\n",
              "      <th>Children_Vaccinated_at_Birth</th>\n",
              "      <th>Children_Not_Vaccinated</th>\n",
              "      <th>Total_Children_Weighted</th>\n",
              "      <th>Children_Weighted_less_than_2.5_Kg</th>\n",
              "      <th>Women_Aged_15_49_years</th>\n",
              "      <th>Sum</th>\n",
              "    </tr>\n",
              "  </thead>\n",
              "  <tbody>\n",
              "    <tr>\n",
              "      <th>count</th>\n",
              "      <td>284.000000</td>\n",
              "      <td>284.000000</td>\n",
              "      <td>284.000000</td>\n",
              "      <td>284.000000</td>\n",
              "      <td>284.000000</td>\n",
              "      <td>284.000000</td>\n",
              "      <td>284.000000</td>\n",
              "      <td>284.000000</td>\n",
              "      <td>284.000000</td>\n",
              "      <td>284.000000</td>\n",
              "      <td>284.000000</td>\n",
              "      <td>284.000000</td>\n",
              "      <td>284.000000</td>\n",
              "      <td>284.000000</td>\n",
              "      <td>284.000000</td>\n",
              "    </tr>\n",
              "    <tr>\n",
              "      <th>mean</th>\n",
              "      <td>141.500000</td>\n",
              "      <td>141.500000</td>\n",
              "      <td>74178.753521</td>\n",
              "      <td>2797.573944</td>\n",
              "      <td>1669.219894</td>\n",
              "      <td>1294.553521</td>\n",
              "      <td>2056.383275</td>\n",
              "      <td>76.127570</td>\n",
              "      <td>65.148415</td>\n",
              "      <td>77.996972</td>\n",
              "      <td>4.501549</td>\n",
              "      <td>56.796373</td>\n",
              "      <td>25.028556</td>\n",
              "      <td>13683.821919</td>\n",
              "      <td>0.422535</td>\n",
              "    </tr>\n",
              "    <tr>\n",
              "      <th>std</th>\n",
              "      <td>82.127949</td>\n",
              "      <td>82.127949</td>\n",
              "      <td>38613.108658</td>\n",
              "      <td>1466.468416</td>\n",
              "      <td>1262.853571</td>\n",
              "      <td>1015.984674</td>\n",
              "      <td>1573.960548</td>\n",
              "      <td>12.276199</td>\n",
              "      <td>14.546203</td>\n",
              "      <td>11.760262</td>\n",
              "      <td>4.243642</td>\n",
              "      <td>21.452351</td>\n",
              "      <td>8.894126</td>\n",
              "      <td>7189.642052</td>\n",
              "      <td>0.494835</td>\n",
              "    </tr>\n",
              "    <tr>\n",
              "      <th>min</th>\n",
              "      <td>0.000000</td>\n",
              "      <td>0.000000</td>\n",
              "      <td>13892.000000</td>\n",
              "      <td>623.000000</td>\n",
              "      <td>49.000000</td>\n",
              "      <td>29.000000</td>\n",
              "      <td>70.000000</td>\n",
              "      <td>32.090000</td>\n",
              "      <td>24.900000</td>\n",
              "      <td>32.500000</td>\n",
              "      <td>0.160000</td>\n",
              "      <td>10.130000</td>\n",
              "      <td>5.420000</td>\n",
              "      <td>2384.000000</td>\n",
              "      <td>0.000000</td>\n",
              "    </tr>\n",
              "    <tr>\n",
              "      <th>25%</th>\n",
              "      <td>70.750000</td>\n",
              "      <td>70.750000</td>\n",
              "      <td>49222.500000</td>\n",
              "      <td>1818.000000</td>\n",
              "      <td>757.385000</td>\n",
              "      <td>583.245000</td>\n",
              "      <td>958.767500</td>\n",
              "      <td>68.742500</td>\n",
              "      <td>54.805000</td>\n",
              "      <td>70.667500</td>\n",
              "      <td>1.900000</td>\n",
              "      <td>38.707500</td>\n",
              "      <td>18.962500</td>\n",
              "      <td>9033.500000</td>\n",
              "      <td>0.000000</td>\n",
              "    </tr>\n",
              "    <tr>\n",
              "      <th>50%</th>\n",
              "      <td>141.500000</td>\n",
              "      <td>141.500000</td>\n",
              "      <td>65206.500000</td>\n",
              "      <td>2499.500000</td>\n",
              "      <td>1328.555000</td>\n",
              "      <td>1003.845000</td>\n",
              "      <td>1630.220000</td>\n",
              "      <td>77.385000</td>\n",
              "      <td>66.125000</td>\n",
              "      <td>80.500000</td>\n",
              "      <td>3.240000</td>\n",
              "      <td>55.850000</td>\n",
              "      <td>23.605000</td>\n",
              "      <td>12139.250000</td>\n",
              "      <td>0.000000</td>\n",
              "    </tr>\n",
              "    <tr>\n",
              "      <th>75%</th>\n",
              "      <td>212.250000</td>\n",
              "      <td>212.250000</td>\n",
              "      <td>88998.500000</td>\n",
              "      <td>3434.250000</td>\n",
              "      <td>2264.247500</td>\n",
              "      <td>1710.250000</td>\n",
              "      <td>2762.960000</td>\n",
              "      <td>85.882500</td>\n",
              "      <td>76.800000</td>\n",
              "      <td>87.000000</td>\n",
              "      <td>5.742500</td>\n",
              "      <td>74.675000</td>\n",
              "      <td>30.325000</td>\n",
              "      <td>16172.500000</td>\n",
              "      <td>1.000000</td>\n",
              "    </tr>\n",
              "    <tr>\n",
              "      <th>max</th>\n",
              "      <td>283.000000</td>\n",
              "      <td>283.000000</td>\n",
              "      <td>303009.000000</td>\n",
              "      <td>11814.000000</td>\n",
              "      <td>7910.000000</td>\n",
              "      <td>7203.000000</td>\n",
              "      <td>8633.000000</td>\n",
              "      <td>96.550000</td>\n",
              "      <td>92.100000</td>\n",
              "      <td>96.940000</td>\n",
              "      <td>30.670000</td>\n",
              "      <td>95.470000</td>\n",
              "      <td>54.700000</td>\n",
              "      <td>55407.500000</td>\n",
              "      <td>1.000000</td>\n",
              "    </tr>\n",
              "  </tbody>\n",
              "</table>\n",
              "</div>"
            ],
            "text/plain": [
              "       Unnamed: 0    District  ...  Women_Aged_15_49_years         Sum\n",
              "count  284.000000  284.000000  ...              284.000000  284.000000\n",
              "mean   141.500000  141.500000  ...            13683.821919    0.422535\n",
              "std     82.127949   82.127949  ...             7189.642052    0.494835\n",
              "min      0.000000    0.000000  ...             2384.000000    0.000000\n",
              "25%     70.750000   70.750000  ...             9033.500000    0.000000\n",
              "50%    141.500000  141.500000  ...            12139.250000    0.000000\n",
              "75%    212.250000  212.250000  ...            16172.500000    1.000000\n",
              "max    283.000000  283.000000  ...            55407.500000    1.000000\n",
              "\n",
              "[8 rows x 15 columns]"
            ]
          },
          "metadata": {
            "tags": []
          },
          "execution_count": 70
        }
      ]
    },
    {
      "cell_type": "code",
      "metadata": {
        "colab": {
          "base_uri": "https://localhost:8080/"
        },
        "id": "ut24TEsQiPfN",
        "outputId": "9dd325c1-2c15-46b0-c56c-6fca65e5221f"
      },
      "source": [
        "df.info()"
      ],
      "execution_count": null,
      "outputs": [
        {
          "output_type": "stream",
          "text": [
            "<class 'pandas.core.frame.DataFrame'>\n",
            "RangeIndex: 284 entries, 0 to 283\n",
            "Data columns (total 16 columns):\n",
            " #   Column                              Non-Null Count  Dtype  \n",
            "---  ------                              --------------  -----  \n",
            " 0   Unnamed: 0                          284 non-null    int64  \n",
            " 1   State                               284 non-null    object \n",
            " 2   District                            284 non-null    int64  \n",
            " 3   Population                          284 non-null    int64  \n",
            " 4   Children_Between_1_to_2_years       284 non-null    int64  \n",
            " 5   Total_Arthritis_Patient             284 non-null    float64\n",
            " 6   Arthritis_Patient_Male              284 non-null    float64\n",
            " 7   Arthritis_Patient_Female            284 non-null    float64\n",
            " 8   Children_Vaccinated                 284 non-null    float64\n",
            " 9   Children_Immunized                  284 non-null    float64\n",
            " 10  Children_Vaccinated_at_Birth        284 non-null    float64\n",
            " 11  Children_Not_Vaccinated             284 non-null    float64\n",
            " 12  Total_Children_Weighted             284 non-null    float64\n",
            " 13  Children_Weighted_less_than_2.5_Kg  284 non-null    float64\n",
            " 14  Women_Aged_15_49_years              284 non-null    float64\n",
            " 15  Sum                                 284 non-null    float64\n",
            "dtypes: float64(11), int64(4), object(1)\n",
            "memory usage: 35.6+ KB\n"
          ],
          "name": "stdout"
        }
      ]
    },
    {
      "cell_type": "code",
      "metadata": {
        "id": "cNtYiOAFiPfO"
      },
      "source": [
        "df.drop(columns=['State','Population','Children_Between_1_to_2_years','Arthritis_Patient_Male','Arthritis_Patient_Female','Children_Vaccinated','Children_Immunized','Children_Vaccinated_at_Birth','Total_Children_Weighted','Children_Weighted_less_than_2.5_Kg'],inplace=True)"
      ],
      "execution_count": null,
      "outputs": []
    },
    {
      "cell_type": "code",
      "metadata": {
        "id": "EaBSxTyUiPfO"
      },
      "source": [
        "df.drop(columns=['Unnamed: 0'],inplace=True)"
      ],
      "execution_count": null,
      "outputs": []
    },
    {
      "cell_type": "code",
      "metadata": {
        "colab": {
          "base_uri": "https://localhost:8080/"
        },
        "id": "42mfN2JqiPfO",
        "outputId": "44cec352-912e-4732-e3f7-36d47f7ca7ce"
      },
      "source": [
        "print(df.columns)"
      ],
      "execution_count": null,
      "outputs": [
        {
          "output_type": "stream",
          "text": [
            "Index(['District', 'Total_Arthritis_Patient', 'Children_Not_Vaccinated',\n",
            "       'Women_Aged_15_49_years', 'Sum'],\n",
            "      dtype='object')\n"
          ],
          "name": "stdout"
        }
      ]
    },
    {
      "cell_type": "code",
      "metadata": {
        "colab": {
          "base_uri": "https://localhost:8080/",
          "height": 203
        },
        "id": "Oz5nIyELiPfO",
        "outputId": "4301d6e3-50d3-4069-cc5f-2aab5b6459f6"
      },
      "source": [
        "df.head()"
      ],
      "execution_count": null,
      "outputs": [
        {
          "output_type": "execute_result",
          "data": {
            "text/html": [
              "<div>\n",
              "<style scoped>\n",
              "    .dataframe tbody tr th:only-of-type {\n",
              "        vertical-align: middle;\n",
              "    }\n",
              "\n",
              "    .dataframe tbody tr th {\n",
              "        vertical-align: top;\n",
              "    }\n",
              "\n",
              "    .dataframe thead th {\n",
              "        text-align: right;\n",
              "    }\n",
              "</style>\n",
              "<table border=\"1\" class=\"dataframe\">\n",
              "  <thead>\n",
              "    <tr style=\"text-align: right;\">\n",
              "      <th></th>\n",
              "      <th>District</th>\n",
              "      <th>Total_Arthritis_Patient</th>\n",
              "      <th>Children_Not_Vaccinated</th>\n",
              "      <th>Women_Aged_15_49_years</th>\n",
              "      <th>Sum</th>\n",
              "    </tr>\n",
              "  </thead>\n",
              "  <tbody>\n",
              "    <tr>\n",
              "      <th>0</th>\n",
              "      <td>0</td>\n",
              "      <td>1072.0</td>\n",
              "      <td>4.3</td>\n",
              "      <td>12208.5</td>\n",
              "      <td>0.0</td>\n",
              "    </tr>\n",
              "    <tr>\n",
              "      <th>1</th>\n",
              "      <td>1</td>\n",
              "      <td>929.0</td>\n",
              "      <td>3.4</td>\n",
              "      <td>16157.0</td>\n",
              "      <td>1.0</td>\n",
              "    </tr>\n",
              "    <tr>\n",
              "      <th>2</th>\n",
              "      <td>2</td>\n",
              "      <td>2964.0</td>\n",
              "      <td>2.7</td>\n",
              "      <td>22614.5</td>\n",
              "      <td>1.0</td>\n",
              "    </tr>\n",
              "    <tr>\n",
              "      <th>3</th>\n",
              "      <td>3</td>\n",
              "      <td>1557.0</td>\n",
              "      <td>5.3</td>\n",
              "      <td>5225.5</td>\n",
              "      <td>0.0</td>\n",
              "    </tr>\n",
              "    <tr>\n",
              "      <th>4</th>\n",
              "      <td>4</td>\n",
              "      <td>1109.0</td>\n",
              "      <td>7.5</td>\n",
              "      <td>13844.0</td>\n",
              "      <td>1.0</td>\n",
              "    </tr>\n",
              "  </tbody>\n",
              "</table>\n",
              "</div>"
            ],
            "text/plain": [
              "   District  Total_Arthritis_Patient  ...  Women_Aged_15_49_years  Sum\n",
              "0         0                   1072.0  ...                 12208.5  0.0\n",
              "1         1                    929.0  ...                 16157.0  1.0\n",
              "2         2                   2964.0  ...                 22614.5  1.0\n",
              "3         3                   1557.0  ...                  5225.5  0.0\n",
              "4         4                   1109.0  ...                 13844.0  1.0\n",
              "\n",
              "[5 rows x 5 columns]"
            ]
          },
          "metadata": {
            "tags": []
          },
          "execution_count": 75
        }
      ]
    },
    {
      "cell_type": "code",
      "metadata": {
        "id": "LAZhAvRAiPfP"
      },
      "source": [
        "df.drop(columns=['District'],inplace=True)"
      ],
      "execution_count": null,
      "outputs": []
    },
    {
      "cell_type": "code",
      "metadata": {
        "colab": {
          "base_uri": "https://localhost:8080/",
          "height": 203
        },
        "id": "SBR-9tUcjHai",
        "outputId": "788481b2-24f3-4ca0-945a-8c1269bbcd0a"
      },
      "source": [
        "df.head()"
      ],
      "execution_count": null,
      "outputs": [
        {
          "output_type": "execute_result",
          "data": {
            "text/html": [
              "<div>\n",
              "<style scoped>\n",
              "    .dataframe tbody tr th:only-of-type {\n",
              "        vertical-align: middle;\n",
              "    }\n",
              "\n",
              "    .dataframe tbody tr th {\n",
              "        vertical-align: top;\n",
              "    }\n",
              "\n",
              "    .dataframe thead th {\n",
              "        text-align: right;\n",
              "    }\n",
              "</style>\n",
              "<table border=\"1\" class=\"dataframe\">\n",
              "  <thead>\n",
              "    <tr style=\"text-align: right;\">\n",
              "      <th></th>\n",
              "      <th>Total_Arthritis_Patient</th>\n",
              "      <th>Children_Not_Vaccinated</th>\n",
              "      <th>Women_Aged_15_49_years</th>\n",
              "      <th>Sum</th>\n",
              "    </tr>\n",
              "  </thead>\n",
              "  <tbody>\n",
              "    <tr>\n",
              "      <th>0</th>\n",
              "      <td>1072.0</td>\n",
              "      <td>4.3</td>\n",
              "      <td>12208.5</td>\n",
              "      <td>0.0</td>\n",
              "    </tr>\n",
              "    <tr>\n",
              "      <th>1</th>\n",
              "      <td>929.0</td>\n",
              "      <td>3.4</td>\n",
              "      <td>16157.0</td>\n",
              "      <td>1.0</td>\n",
              "    </tr>\n",
              "    <tr>\n",
              "      <th>2</th>\n",
              "      <td>2964.0</td>\n",
              "      <td>2.7</td>\n",
              "      <td>22614.5</td>\n",
              "      <td>1.0</td>\n",
              "    </tr>\n",
              "    <tr>\n",
              "      <th>3</th>\n",
              "      <td>1557.0</td>\n",
              "      <td>5.3</td>\n",
              "      <td>5225.5</td>\n",
              "      <td>0.0</td>\n",
              "    </tr>\n",
              "    <tr>\n",
              "      <th>4</th>\n",
              "      <td>1109.0</td>\n",
              "      <td>7.5</td>\n",
              "      <td>13844.0</td>\n",
              "      <td>1.0</td>\n",
              "    </tr>\n",
              "  </tbody>\n",
              "</table>\n",
              "</div>"
            ],
            "text/plain": [
              "   Total_Arthritis_Patient  ...  Sum\n",
              "0                   1072.0  ...  0.0\n",
              "1                    929.0  ...  1.0\n",
              "2                   2964.0  ...  1.0\n",
              "3                   1557.0  ...  0.0\n",
              "4                   1109.0  ...  1.0\n",
              "\n",
              "[5 rows x 4 columns]"
            ]
          },
          "metadata": {
            "tags": []
          },
          "execution_count": 77
        }
      ]
    },
    {
      "cell_type": "code",
      "metadata": {
        "id": "xQaGg9n8jO-I"
      },
      "source": [
        "X=df.drop(['Sum'],axis=1)\n",
        "Y=df['Sum']"
      ],
      "execution_count": null,
      "outputs": []
    },
    {
      "cell_type": "code",
      "metadata": {
        "colab": {
          "base_uri": "https://localhost:8080/"
        },
        "id": "rh2vElW2jqIT",
        "outputId": "9c973b18-c4ba-4a45-e266-8d3837bc99d8"
      },
      "source": [
        "print(X)\n",
        "print(Y)"
      ],
      "execution_count": null,
      "outputs": [
        {
          "output_type": "stream",
          "text": [
            "     Total_Arthritis_Patient  Children_Not_Vaccinated  Women_Aged_15_49_years\n",
            "0                    1072.00                     4.30                 12208.5\n",
            "1                     929.00                     3.40                 16157.0\n",
            "2                    2964.00                     2.70                 22614.5\n",
            "3                    1557.00                     5.30                  5225.5\n",
            "4                    1109.00                     7.50                 13844.0\n",
            "..                       ...                      ...                     ...\n",
            "279                  5884.42                     1.28                 20711.5\n",
            "280                  4110.77                     1.67                 27629.0\n",
            "281                  1332.66                     5.73                 39272.5\n",
            "282                  1612.24                     2.79                 15773.5\n",
            "283                   851.41                     6.97                 14130.5\n",
            "\n",
            "[284 rows x 3 columns]\n",
            "0      0.0\n",
            "1      1.0\n",
            "2      1.0\n",
            "3      0.0\n",
            "4      1.0\n",
            "      ... \n",
            "279    1.0\n",
            "280    1.0\n",
            "281    1.0\n",
            "282    1.0\n",
            "283    1.0\n",
            "Name: Sum, Length: 284, dtype: float64\n"
          ],
          "name": "stdout"
        }
      ]
    },
    {
      "cell_type": "code",
      "metadata": {
        "id": "HDcEj4p8kVVR"
      },
      "source": [
        "X_train, X_test, Y_train, Y_test = train_test_split(X, Y, test_size = 0.2, random_state = 2)"
      ],
      "execution_count": null,
      "outputs": []
    },
    {
      "cell_type": "code",
      "metadata": {
        "colab": {
          "base_uri": "https://localhost:8080/"
        },
        "id": "b1gsWgV3kZNu",
        "outputId": "560f6d56-0310-4e85-ea23-1f50f4bbb0c1"
      },
      "source": [
        "print(X.shape, X_train.shape, X_test.shape)"
      ],
      "execution_count": null,
      "outputs": [
        {
          "output_type": "stream",
          "text": [
            "(284, 3) (227, 3) (57, 3)\n"
          ],
          "name": "stdout"
        }
      ]
    },
    {
      "cell_type": "code",
      "metadata": {
        "id": "puJ__9gpkhK-"
      },
      "source": [
        "model = XGBRegressor()"
      ],
      "execution_count": null,
      "outputs": []
    },
    {
      "cell_type": "code",
      "metadata": {
        "colab": {
          "base_uri": "https://localhost:8080/"
        },
        "id": "p5Csxespkj_C",
        "outputId": "be69c649-0c78-47fd-94b3-d8f9b5ba26c8"
      },
      "source": [
        "model.fit(X_train, Y_train)"
      ],
      "execution_count": null,
      "outputs": [
        {
          "output_type": "stream",
          "text": [
            "[13:53:54] WARNING: /workspace/src/objective/regression_obj.cu:152: reg:linear is now deprecated in favor of reg:squarederror.\n"
          ],
          "name": "stdout"
        },
        {
          "output_type": "execute_result",
          "data": {
            "text/plain": [
              "XGBRegressor(base_score=0.5, booster='gbtree', colsample_bylevel=1,\n",
              "             colsample_bynode=1, colsample_bytree=1, gamma=0,\n",
              "             importance_type='gain', learning_rate=0.1, max_delta_step=0,\n",
              "             max_depth=3, min_child_weight=1, missing=None, n_estimators=100,\n",
              "             n_jobs=1, nthread=None, objective='reg:linear', random_state=0,\n",
              "             reg_alpha=0, reg_lambda=1, scale_pos_weight=1, seed=None,\n",
              "             silent=None, subsample=1, verbosity=1)"
            ]
          },
          "metadata": {
            "tags": []
          },
          "execution_count": 83
        }
      ]
    },
    {
      "cell_type": "code",
      "metadata": {
        "id": "MvsXz6vwknbW"
      },
      "source": [
        "training_data_prediction = model.predict(X_train)"
      ],
      "execution_count": null,
      "outputs": []
    },
    {
      "cell_type": "code",
      "metadata": {
        "colab": {
          "base_uri": "https://localhost:8080/"
        },
        "id": "xZ9lwgo-kq0a",
        "outputId": "4598ebd3-2855-4c9f-e756-96252f748403"
      },
      "source": [
        "print(training_data_prediction)"
      ],
      "execution_count": null,
      "outputs": [
        {
          "output_type": "stream",
          "text": [
            "[ 6.82698786e-02  2.55608559e-03  2.65350640e-02  9.85065699e-01\n",
            "  1.91830397e-02  4.59340811e-02  1.00062311e+00 -6.73007965e-03\n",
            "  6.13161922e-03  8.76968801e-02 -1.76989436e-02 -6.24442101e-03\n",
            "  3.55160832e-02  9.79669809e-01  2.97022462e-02  6.75267577e-02\n",
            "  9.97163892e-01 -6.24442101e-03  9.89378035e-01  9.69636559e-01\n",
            "  9.85750377e-01 -9.94586945e-03 -1.06987953e-02 -1.09923482e-02\n",
            "  1.01601219e+00  1.91788256e-01  1.04317516e-01 -2.02653408e-02\n",
            " -1.06421113e-02  1.78942680e-02  9.96409893e-01  9.85750377e-01\n",
            " -8.47792625e-03 -2.46299505e-02  1.93556637e-01  9.97835875e-01\n",
            "  9.11122441e-01  8.36476326e-01  9.74222839e-01 -5.91719151e-03\n",
            "  6.58340752e-02  1.38425648e-01 -2.04510093e-02  1.02072930e+00\n",
            "  9.73368287e-01 -6.08825684e-03  2.20038295e-02 -1.76989436e-02\n",
            "  1.19833171e-01 -3.12914848e-02  1.00226700e-02  9.92361784e-01\n",
            " -1.06987953e-02  9.10713375e-01  3.89542282e-02  1.12903416e-02\n",
            "  1.01838398e+00  1.55161619e-02  6.11281693e-02 -1.60863996e-02\n",
            " -2.62624025e-03 -2.81273723e-02  9.55950618e-01  1.99334621e-02\n",
            "  7.92859495e-02  1.03177643e+00  1.05681753e+00  3.13580036e-02\n",
            "  9.38258529e-01  9.69631791e-01 -2.43875980e-02  9.89805281e-01\n",
            " -1.76989436e-02  1.02927053e+00  9.70174313e-01 -6.89566135e-04\n",
            "  9.77313757e-01 -9.94586945e-03 -2.39545703e-02  9.52192664e-01\n",
            " -1.35261416e-02  8.64797056e-01 -2.02653408e-02 -3.50583792e-02\n",
            "  9.65643883e-01  5.99266887e-02  9.80617046e-01  9.20210600e-01\n",
            " -9.80091095e-03 -2.02653408e-02  9.27489519e-01 -8.20106268e-03\n",
            "  1.01235878e+00  9.88246202e-01  9.71819282e-01  9.92763400e-01\n",
            "  9.20857310e-01 -9.70351696e-03  9.86784697e-04  1.81805789e-01\n",
            "  1.00860476e+00  2.58005500e-01  9.98142660e-02 -2.98142433e-03\n",
            "  9.69260931e-03 -1.25986338e-03  9.88365173e-01 -2.02653408e-02\n",
            "  9.34480250e-01  1.03136611e+00 -3.11952829e-03  2.33126581e-02\n",
            "  7.74232864e-01  9.69366193e-01  8.95085633e-01  9.77190971e-01\n",
            "  9.85698819e-01 -9.94586945e-03  2.18374044e-01  1.06334388e-02\n",
            "  1.52143240e-02  3.01745534e-02 -2.45732665e-02  5.20775616e-02\n",
            "  3.77741456e-03  1.02660227e+00  1.38425648e-01  8.80229235e-01\n",
            " -1.76989436e-02 -1.24847889e-03  1.06454563e+00  9.86790419e-01\n",
            " -1.22189522e-02  2.88364291e-03  9.81571317e-01  7.62102962e-01\n",
            "  3.27907503e-02 -3.29380631e-02  9.88003612e-03  1.00062311e+00\n",
            "  7.55966604e-02  9.44570184e-01  5.61106205e-03  9.89378035e-01\n",
            " -1.24847889e-03  9.86790419e-01  4.07184958e-02  3.65405083e-02\n",
            "  9.81571317e-01  1.01654065e+00  8.02795768e-01 -1.06987953e-02\n",
            "  4.87526357e-02  7.76101589e-01  2.17667520e-02  2.11123049e-01\n",
            "  4.00713384e-02 -1.32198334e-02 -2.02653408e-02  1.63165033e-02\n",
            "  9.89805281e-01  9.97430503e-01  9.85996485e-01  9.71131444e-01\n",
            "  1.80585682e-01  9.93052542e-01  1.00331223e+00  1.01492524e+00\n",
            "  1.52346492e-03 -1.04233623e-02  1.06786656e+00  3.71852517e-03\n",
            "  2.31404394e-01 -2.02653408e-02  2.58830488e-02  9.55950618e-01\n",
            " -1.09923482e-02  3.54319811e-04  9.74047661e-01  1.08657014e+00\n",
            "  1.08205080e-02  9.44570184e-01  7.15678155e-01  4.31234241e-02\n",
            "  1.31129920e-02  1.03403354e+00  9.23159480e-01  1.01420510e+00\n",
            " -7.29846954e-03  6.96715534e-01  1.00480211e+00  1.00959778e+00\n",
            " -1.77530646e-02  3.22553515e-02  9.57905471e-01  1.43203139e-03\n",
            "  9.95564103e-01  1.67883337e-02  8.61830235e-01 -2.83790231e-02\n",
            " -2.02653408e-02 -1.06987953e-02 -7.29846954e-03 -1.41248107e-02\n",
            "  1.06334388e-02  1.01074624e+00 -2.38609314e-03  8.26710939e-01\n",
            "  5.20775616e-02 -1.66653395e-02  6.13161922e-03  1.78942680e-02\n",
            " -6.43086433e-03  5.69491386e-02 -5.47581911e-03  1.03133154e+00\n",
            "  9.96757865e-01  1.19410455e-02  1.00139666e+00 -1.48210526e-02\n",
            " -1.09923482e-02 -3.29636931e-02  4.02568877e-02  9.86244619e-01\n",
            "  1.81359798e-01 -1.09923482e-02 -4.58705425e-03]\n"
          ],
          "name": "stdout"
        }
      ]
    },
    {
      "cell_type": "code",
      "metadata": {
        "colab": {
          "base_uri": "https://localhost:8080/"
        },
        "id": "RK61xNX1ks1L",
        "outputId": "f90c4a24-e344-4a2a-9c40-66f46d311e61"
      },
      "source": [
        "score_1 = metrics.r2_score(Y_train, training_data_prediction)\n",
        "score_2 = metrics.mean_absolute_error(Y_train, training_data_prediction)\n",
        "print(\"R squared error : \", score_1)\n",
        "print('Mean Absolute Error : ', score_2)"
      ],
      "execution_count": null,
      "outputs": [
        {
          "output_type": "stream",
          "text": [
            "R squared error :  0.9789517851344465\n",
            "Mean Absolute Error :  0.04156711041139611\n"
          ],
          "name": "stdout"
        }
      ]
    },
    {
      "cell_type": "code",
      "metadata": {
        "id": "93C8hPeOlJEA"
      },
      "source": [
        "test_data_prediction = model.predict(X_test)"
      ],
      "execution_count": null,
      "outputs": []
    },
    {
      "cell_type": "code",
      "metadata": {
        "colab": {
          "base_uri": "https://localhost:8080/"
        },
        "id": "QSlH-HOelL2M",
        "outputId": "abd54dc3-16ee-473e-d45e-5d00581459ce"
      },
      "source": [
        "score_1 = metrics.r2_score(Y_test, test_data_prediction)\n",
        "\n",
        "# Mean Absolute Error\n",
        "score_2 = metrics.mean_absolute_error(Y_test, test_data_prediction)\n",
        "\n",
        "print(\"R squared error : \", score_1)\n",
        "print('Mean Absolute Error : ', score_2)"
      ],
      "execution_count": null,
      "outputs": [
        {
          "output_type": "stream",
          "text": [
            "R squared error :  0.8642948242639169\n",
            "Mean Absolute Error :  0.1080500488741356\n"
          ],
          "name": "stdout"
        }
      ]
    }
  ]
}